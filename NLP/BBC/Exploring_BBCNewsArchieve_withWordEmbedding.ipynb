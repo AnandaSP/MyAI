{
  "nbformat": 4,
  "nbformat_minor": 0,
  "metadata": {
    "colab": {
      "name": "Exploring_BBCNewsArchieve_withWordEmbedding",
      "provenance": [],
      "collapsed_sections": []
    },
    "kernelspec": {
      "name": "python3",
      "display_name": "Python 3"
    },
    "accelerator": "GPU"
  },
  "cells": [
    {
      "cell_type": "markdown",
      "metadata": {
        "id": "zrIma3NNK1i0",
        "colab_type": "text"
      },
      "source": [
        "# **Let's explore BBC News Archive**\n",
        "#### **There're 5 categories --> Business, Entertainment, Tech, Politics and Sport**"
      ]
    },
    {
      "cell_type": "code",
      "metadata": {
        "id": "HjPw3S8CMfHP",
        "colab_type": "code",
        "colab": {
          "base_uri": "https://localhost:8080/",
          "height": 204
        },
        "outputId": "08ccebc9-bc9d-4a12-f841-ae536ad24d42"
      },
      "source": [
        "# http://mlg.ucd.ie/datasets/bbc.html    ----> URL to explore for the dataset\n",
        "\n",
        "!pip install wget\n",
        "\n",
        "import wget\n",
        "url = \"http://mlg.ucd.ie/files/datasets/bbc-fulltext.zip\"\n",
        "wget.download(url, \"/tmp/BBC_Raw.zip\")"
      ],
      "execution_count": null,
      "outputs": [
        {
          "output_type": "stream",
          "text": [
            "Collecting wget\n",
            "  Downloading https://files.pythonhosted.org/packages/47/6a/62e288da7bcda82b935ff0c6cfe542970f04e29c756b0e147251b2fb251f/wget-3.2.zip\n",
            "Building wheels for collected packages: wget\n",
            "  Building wheel for wget (setup.py) ... \u001b[?25l\u001b[?25hdone\n",
            "  Created wheel for wget: filename=wget-3.2-cp36-none-any.whl size=9682 sha256=4b364a7c22ae7ea97a4d48504fdbb7ecdbee086b409c9358198d4956fb0e72a8\n",
            "  Stored in directory: /root/.cache/pip/wheels/40/15/30/7d8f7cea2902b4db79e3fea550d7d7b85ecb27ef992b618f3f\n",
            "Successfully built wget\n",
            "Installing collected packages: wget\n",
            "Successfully installed wget-3.2\n"
          ],
          "name": "stdout"
        },
        {
          "output_type": "execute_result",
          "data": {
            "application/vnd.google.colaboratory.intrinsic+json": {
              "type": "string"
            },
            "text/plain": [
              "'/tmp/BBC_Raw.zip'"
            ]
          },
          "metadata": {
            "tags": []
          },
          "execution_count": 1
        }
      ]
    },
    {
      "cell_type": "markdown",
      "metadata": {
        "id": "LT0FcOIqNttT",
        "colab_type": "text"
      },
      "source": [
        "## **Now, let's work on Data Pre-Processing**"
      ]
    },
    {
      "cell_type": "code",
      "metadata": {
        "id": "JOkwkYsGNWOo",
        "colab_type": "code",
        "colab": {
          "base_uri": "https://localhost:8080/",
          "height": 54
        },
        "outputId": "779c8995-8272-46ba-8f72-eb738ed807ad"
      },
      "source": [
        "import zipfile\n",
        "import os\n",
        "import pandas as pd\n",
        "\n",
        "save_path = \"/tmp/BBC_Raw.zip\"\n",
        "read_zip = zipfile.ZipFile(save_path, \"r\")\n",
        "read_zip.extractall(\"/tmp\")\n",
        "read_zip.close()\n",
        "\n",
        "business = os.listdir(\"/tmp/bbc/business\")\n",
        "entertainment = os.listdir(\"/tmp/bbc/entertainment\")\n",
        "politics = os.listdir(\"/tmp/bbc/politics\")\n",
        "sport = os.listdir(\"/tmp/bbc/sport\")\n",
        "tech = os.listdir(\"/tmp/bbc/tech\")\n",
        "\n",
        "print(\"Just For Information, 5 files name in Business category: \\n\", business[0:5])\n",
        "\n",
        "\n",
        "\n",
        "lines2 = []\n",
        "label = []\n",
        "labels = [\"business\", \"entertainment\", \"politics\", \"sport\", \"tech\"]\n",
        "\n",
        "for categry in labels:\n",
        "\n",
        "  for_categry = os.listdir(\"/tmp/bbc/{}\".format(categry))\n",
        "  for name in for_categry:\n",
        "    if(categry == \"sport\" and name == \"199.txt\"):   #As, having problem reading \"199.txt\"\n",
        "      break;\n",
        "    lines = \"\"\n",
        "    for line in open(os.path.join(\"/tmp/bbc/{}\".format(categry), name), \"r\"):\n",
        "      lines = lines + line.replace(\"\\n\", \" \").replace(\"\\'\", \" \").replace(\"\\\"\", \" \").lower()\n",
        "    # print(lines)\n",
        "    lines2.append(lines)\n",
        "    label.append(\"{}\".format(categry))\n",
        "\n",
        "df = pd.DataFrame(lines2, index = None)\n",
        "df[\"category\"] = label\n",
        "df.rename(columns = {0 : \"text\"}, inplace = True)\n",
        "cols = df.columns.tolist()\n",
        "cols = cols[-1:] + cols[:-1]\n",
        "df = df[cols]\n",
        "# df.head()\n",
        "df = df.sample(frac =1)  #Return a random sample of items from an axis of object.\n",
        "df.to_csv(\"/tmp/BBC_Preprocessed.csv\", index = False)\n"
      ],
      "execution_count": null,
      "outputs": [
        {
          "output_type": "stream",
          "text": [
            "Just For Information, 5 files name in Business category: \n",
            " ['386.txt', '087.txt', '325.txt', '214.txt', '073.txt']\n"
          ],
          "name": "stdout"
        }
      ]
    },
    {
      "cell_type": "markdown",
      "metadata": {
        "id": "NqeAh48tP33R",
        "colab_type": "text"
      },
      "source": [
        "## **Removing the Stopwords**"
      ]
    },
    {
      "cell_type": "code",
      "metadata": {
        "id": "OimjTGWOR1Z-",
        "colab_type": "code",
        "colab": {
          "base_uri": "https://localhost:8080/",
          "height": 93
        },
        "outputId": "c2d145da-3c78-4a4d-ade0-80d9f0faaea9"
      },
      "source": [
        "import csv\n",
        "\n",
        "stopwords = [ \"a\", \"about\", \"above\", \"after\", \"again\", \"against\", \"all\", \"am\", \"an\", \"and\", \"any\", \"are\", \"as\", \"at\", \"be\", \"because\", \"been\", \"before\", \"being\", \"below\", \"between\", \"both\", \"but\", \"by\", \"could\", \"did\", \"do\", \"does\", \"doing\", \"down\", \"during\", \"each\", \"few\", \"for\", \"from\", \"further\", \"had\", \"has\", \"have\", \"having\", \"he\", \"he'd\", \"he'll\", \"he's\", \"her\", \"here\", \"here's\", \"hers\", \"herself\", \"him\", \"himself\", \"his\", \"how\", \"how's\", \"i\", \"i'd\", \"i'll\", \"i'm\", \"i've\", \"if\", \"in\", \"into\", \"is\", \"it\", \"it's\", \"its\", \"itself\", \"let's\", \"me\", \"more\", \"most\", \"my\", \"myself\", \"nor\", \"of\", \"on\", \"once\", \"only\", \"or\", \"other\", \"ought\", \"our\", \"ours\", \"ourselves\", \"out\", \"over\", \"own\", \"same\", \"she\", \"she'd\", \"she'll\", \"she's\", \"should\", \"so\", \"some\", \"such\", \"than\", \"that\", \"that's\", \"the\", \"their\", \"theirs\", \"them\", \"themselves\", \"then\", \"there\", \"there's\", \"these\", \"they\", \"they'd\", \"they'll\", \"they're\", \"they've\", \"this\", \"those\", \"through\", \"to\", \"too\", \"under\", \"until\", \"up\", \"very\", \"was\", \"we\", \"we'd\", \"we'll\", \"we're\", \"we've\", \"were\", \"what\", \"what's\", \"when\", \"when's\", \"where\", \"where's\", \"which\", \"while\", \"who\", \"who's\", \"whom\", \"why\", \"why's\", \"with\", \"would\", \"you\", \"you'd\", \"you'll\", \"you're\", \"you've\", \"your\", \"yours\", \"yourself\", \"yourselves\" ]\n",
        "\n",
        "category = []\n",
        "text = []\n",
        "\n",
        "with open(\"/tmp/BBC_Preprocessed.csv\", \"r\") as my_file:\n",
        "  reader = csv.reader(my_file, delimiter = \",\")\n",
        "  next(reader)\n",
        "  for row in reader:\n",
        "    category.append(row[0])\n",
        "    sentence = row[1]\n",
        "    for stopword in stopwords:\n",
        "      unwanted = \" \" + stopword + \" \"\n",
        "      sentence = sentence.replace(unwanted, \" \")\n",
        "      sentence = sentence.replace(\"  \", \" \")\n",
        "    text.append(sentence)\n",
        "\n",
        "print(\"Number of sentences : \", len(text))\n",
        "print(\"One sentence is: \\n\", text[0])"
      ],
      "execution_count": null,
      "outputs": [
        {
          "output_type": "stream",
          "text": [
            "Number of sentences :  2039\n",
            "One sentence is: \n",
            " howard taunts blair splits tony blair s feud gordon brown damaging way uk governed, tory leader michael howard claimed heated prime minister s questions. mr howard asked: can fight crime fighting other? question later unveiled headline new tory campaign posters. mr blair dismissed talk splits said people s priorities next elections economic successes achieved labour. can stick whatever likes billboards something book public will concentrate low mortgages, low inflation, low unemployment delivered failed to, said. chancellor currently high-profile tour africa highlight new anti-poverty plans. so, insisted still trusted mr blair, despite claims contrary new book. brown s britain, robert peston, says mutual animosity two men. claims mr blair said november 2003 stand prime minister next election. went back pledge support cabinet allies suspicion mr brown manoeuvring him, says. mr peston s book claimed mr brown told mr blair: nothing ever say now ever believe. mr blair directly denied quote wednesday. insisted no deals premiership twice declined directly say whether not offered quit. tory leader countered agreements struck twice dinners chancellor. declared: deals meals prime minister. no wonder chancellor not happy eater. continued: can discipline schools no discipline government, can clean hospitals don t clean act? mr blair said not respond tittle tattle books promised hail labour s record economy, waiting lists law order now polling day . later poster launch tory co-chairman liam fox said party exploit opportunities show juvenile prime minister chancellor were. labour staged show unity poster launch tuesday, mr brown joined alan milburn, mr blair controversially put charge election planning place chancellor. liberal democrat leader charles kennedy told bbc news: government clearly split top. kind cosmetic exercise not persuade anybody. later week mr blair expected outline direction party s next election manifesto. prime minister chancellor faced backbench discontent monday s meeting parliamentary labour party claims made mr peston s book. \n"
          ],
          "name": "stdout"
        }
      ]
    },
    {
      "cell_type": "markdown",
      "metadata": {
        "id": "RMuuPjfsEYZF",
        "colab_type": "text"
      },
      "source": [
        "## **Let's build the Model**"
      ]
    },
    {
      "cell_type": "code",
      "metadata": {
        "id": "j8VqidftSLMk",
        "colab_type": "code",
        "colab": {}
      },
      "source": [
        "import tensorflow as tf\n",
        "import numpy as np\n",
        "from tensorflow.keras.optimizers import Adam\n",
        "import matplotlib.pyplot as plt\n",
        "from tensorflow.keras.preprocessing.text import Tokenizer\n",
        "from tensorflow.keras.preprocessing.sequence import pad_sequences\n",
        "# from IPython.display import display\n",
        "# from IPython.html import widgets \n",
        "# from IPython.display import display\n",
        "# from ipywidgets import interact, interactive, fixed, interact_manual\n",
        "\n",
        "\n",
        "\n",
        "def My_model(vocab_size, embedding_dim, max_length):\n",
        "\n",
        "  \n",
        "  # vocab_size = 1000\n",
        "  # embedding_dim = 16\n",
        "  # max_length = 120\n",
        "  trunc_type='post'\n",
        "  padding_type='post'\n",
        "  oov_tok = \"<OOV>\"\n",
        "  training_portion = .8\n",
        "  num_epochs = 30\n",
        "\n",
        "\n",
        "  training_size = int(len(text) * training_portion)\n",
        "\n",
        "  training_sentences = text[0:training_size]\n",
        "  testing_sentences = text[training_size:]\n",
        "  training_labels = category[0:training_size]\n",
        "  testing_labels = category[training_size:]\n",
        "\n",
        "  # Tokenizing Sentences\n",
        "  token = Tokenizer(num_words = vocab_size, oov_token = oov_tok)\n",
        "  token.fit_on_texts(training_sentences)\n",
        "  word_idx = token.word_index\n",
        "  train_sequences = token.texts_to_sequences(training_sentences)\n",
        "  train_padded = pad_sequences(train_sequences, maxlen = max_length, padding = padding_type, truncating = trunc_type)\n",
        "  test_sequences = token.texts_to_sequences(testing_sentences)\n",
        "  test_padded = pad_sequences(test_sequences, maxlen = max_length, padding = padding_type, truncating = trunc_type)\n",
        "\n",
        "  # Tokenizing Labels\n",
        "  label_token = Tokenizer()\n",
        "  label_token.fit_on_texts(category)\n",
        "  labels_for_train = label_token.texts_to_sequences(training_labels)\n",
        "  labels_for_test = label_token.texts_to_sequences(testing_labels)\n",
        "\n",
        "\n",
        "  training_padded = np.array(train_padded)\n",
        "  training_label = np.array(labels_for_train)\n",
        "  testing_padded = np.array(test_padded)\n",
        "  testing_label = np.array(labels_for_test)\n",
        "\n",
        "  model = tf.keras.Sequential([\n",
        "             tf.keras.layers.Embedding(vocab_size, embedding_dim, input_length = max_length),\n",
        "             tf.keras.layers.GlobalAveragePooling1D(),\n",
        "             tf.keras.layers.Dense(128, activation = \"relu\"),\n",
        "             tf.keras.layers.Dropout(0.4),\n",
        "             tf.keras.layers.Dense(6, activation = \"softmax\")                                   \n",
        "  ])\n",
        "\n",
        "\n",
        "  model.compile(optimizer = Adam(beta_1=0.9, beta_2=0.999, epsilon=1e-08), \n",
        "              loss = \"sparse_categorical_crossentropy\", \n",
        "              metrics = [\"accuracy\"])\n",
        "  \n",
        "  model.summary()\n",
        "\n",
        "\n",
        "  early_stop = tf.keras.callbacks.EarlyStopping(\n",
        "    monitor='val_loss', patience=10, verbose = 1, restore_best_weights=True)\n",
        "  \n",
        "  reduce_lr = tf.keras.callbacks.ReduceLROnPlateau(\n",
        "    monitor='val_accuracy', factor=0.5, patience=10, verbose = 1,\n",
        "    min_delta=0.01, min_lr=0.001)\n",
        "\n",
        "  history = model.fit(training_padded, training_label, epochs = num_epochs, validation_data = (testing_padded, testing_label), callbacks = [early_stop, reduce_lr], verbose = 1)\n",
        "\n",
        "  def plot_graphs(history, string):\n",
        "    plt.plot(history.history[string])\n",
        "    plt.plot(history.history['val_'+string])\n",
        "    plt.xlabel(\"Epochs\")\n",
        "    plt.ylabel(string)\n",
        "    plt.legend([string, 'val_'+string])\n",
        "    plt.show()\n",
        "  \n",
        "  plot_graphs(history, \"accuracy\")\n",
        "  plot_graphs(history, \"loss\")\n",
        "\n",
        "  return model, token, word_idx\n",
        "\n",
        "# interact(My_model, vocab_size=(1000, 10000, 2000), embedding_dim=(16, 40, 8), max_length=(16, 40, 8))"
      ],
      "execution_count": null,
      "outputs": []
    },
    {
      "cell_type": "markdown",
      "metadata": {
        "id": "k4qE0gLgT9ks",
        "colab_type": "text"
      },
      "source": [
        "## **Let's run the model**"
      ]
    },
    {
      "cell_type": "code",
      "metadata": {
        "id": "xqIqobrqF-X0",
        "colab_type": "code",
        "colab": {
          "base_uri": "https://localhost:8080/",
          "height": 1000
        },
        "outputId": "d7fc79bc-23f2-41d0-ee15-0624d0a15513"
      },
      "source": [
        "vocab_size = 1000 \n",
        "embedding_dim = 16 \n",
        "max_length = 120\n",
        "\n",
        "Model, tokenizer, word_index  = My_model(vocab_size, embedding_dim, max_length)"
      ],
      "execution_count": null,
      "outputs": [
        {
          "output_type": "stream",
          "text": [
            "Model: \"sequential_6\"\n",
            "_________________________________________________________________\n",
            "Layer (type)                 Output Shape              Param #   \n",
            "=================================================================\n",
            "embedding_6 (Embedding)      (None, 120, 16)           16000     \n",
            "_________________________________________________________________\n",
            "global_average_pooling1d_6 ( (None, 16)                0         \n",
            "_________________________________________________________________\n",
            "dense_12 (Dense)             (None, 128)               2176      \n",
            "_________________________________________________________________\n",
            "dropout_6 (Dropout)          (None, 128)               0         \n",
            "_________________________________________________________________\n",
            "dense_13 (Dense)             (None, 6)                 774       \n",
            "=================================================================\n",
            "Total params: 18,950\n",
            "Trainable params: 18,950\n",
            "Non-trainable params: 0\n",
            "_________________________________________________________________\n",
            "Epoch 1/30\n",
            "51/51 [==============================] - 0s 5ms/step - loss: 1.7540 - accuracy: 0.2544 - val_loss: 1.6995 - val_accuracy: 0.2500\n",
            "Epoch 2/30\n",
            "51/51 [==============================] - 0s 4ms/step - loss: 1.6469 - accuracy: 0.2526 - val_loss: 1.5847 - val_accuracy: 0.2500\n",
            "Epoch 3/30\n",
            "51/51 [==============================] - 0s 3ms/step - loss: 1.5316 - accuracy: 0.3286 - val_loss: 1.4524 - val_accuracy: 0.3701\n",
            "Epoch 4/30\n",
            "51/51 [==============================] - 0s 4ms/step - loss: 1.3515 - accuracy: 0.5144 - val_loss: 1.2150 - val_accuracy: 0.7500\n",
            "Epoch 5/30\n",
            "51/51 [==============================] - 0s 4ms/step - loss: 1.0653 - accuracy: 0.7413 - val_loss: 0.9160 - val_accuracy: 0.8456\n",
            "Epoch 6/30\n",
            "51/51 [==============================] - 0s 3ms/step - loss: 0.7866 - accuracy: 0.8430 - val_loss: 0.6685 - val_accuracy: 0.8897\n",
            "Epoch 7/30\n",
            "51/51 [==============================] - 0s 3ms/step - loss: 0.5675 - accuracy: 0.8958 - val_loss: 0.5082 - val_accuracy: 0.8922\n",
            "Epoch 8/30\n",
            "51/51 [==============================] - 0s 4ms/step - loss: 0.4311 - accuracy: 0.9172 - val_loss: 0.4017 - val_accuracy: 0.9142\n",
            "Epoch 9/30\n",
            "51/51 [==============================] - 0s 3ms/step - loss: 0.3445 - accuracy: 0.9295 - val_loss: 0.3283 - val_accuracy: 0.9289\n",
            "Epoch 10/30\n",
            "51/51 [==============================] - 0s 4ms/step - loss: 0.2736 - accuracy: 0.9479 - val_loss: 0.2773 - val_accuracy: 0.9265\n",
            "Epoch 11/30\n",
            "51/51 [==============================] - 0s 3ms/step - loss: 0.2227 - accuracy: 0.9522 - val_loss: 0.2525 - val_accuracy: 0.9240\n",
            "Epoch 12/30\n",
            "51/51 [==============================] - 0s 3ms/step - loss: 0.1917 - accuracy: 0.9614 - val_loss: 0.2158 - val_accuracy: 0.9363\n",
            "Epoch 13/30\n",
            "51/51 [==============================] - 0s 4ms/step - loss: 0.1555 - accuracy: 0.9700 - val_loss: 0.1962 - val_accuracy: 0.9461\n",
            "Epoch 14/30\n",
            "51/51 [==============================] - 0s 3ms/step - loss: 0.1330 - accuracy: 0.9767 - val_loss: 0.1797 - val_accuracy: 0.9485\n",
            "Epoch 15/30\n",
            "51/51 [==============================] - 0s 4ms/step - loss: 0.1170 - accuracy: 0.9810 - val_loss: 0.1729 - val_accuracy: 0.9510\n",
            "Epoch 16/30\n",
            "51/51 [==============================] - 0s 3ms/step - loss: 0.0922 - accuracy: 0.9834 - val_loss: 0.1620 - val_accuracy: 0.9485\n",
            "Epoch 17/30\n",
            "51/51 [==============================] - 0s 3ms/step - loss: 0.0815 - accuracy: 0.9877 - val_loss: 0.1547 - val_accuracy: 0.9534\n",
            "Epoch 18/30\n",
            "51/51 [==============================] - 0s 3ms/step - loss: 0.0793 - accuracy: 0.9884 - val_loss: 0.1523 - val_accuracy: 0.9534\n",
            "Epoch 19/30\n",
            "51/51 [==============================] - 0s 4ms/step - loss: 0.0671 - accuracy: 0.9902 - val_loss: 0.1467 - val_accuracy: 0.9559\n",
            "Epoch 20/30\n",
            "51/51 [==============================] - 0s 3ms/step - loss: 0.0587 - accuracy: 0.9920 - val_loss: 0.1415 - val_accuracy: 0.9559\n",
            "Epoch 21/30\n",
            "51/51 [==============================] - 0s 3ms/step - loss: 0.0512 - accuracy: 0.9896 - val_loss: 0.1427 - val_accuracy: 0.9559\n",
            "Epoch 22/30\n",
            "51/51 [==============================] - 0s 3ms/step - loss: 0.0446 - accuracy: 0.9945 - val_loss: 0.1419 - val_accuracy: 0.9583\n",
            "Epoch 23/30\n",
            "51/51 [==============================] - 0s 3ms/step - loss: 0.0390 - accuracy: 0.9975 - val_loss: 0.1389 - val_accuracy: 0.9583\n",
            "Epoch 24/30\n",
            "51/51 [==============================] - 0s 4ms/step - loss: 0.0382 - accuracy: 0.9957 - val_loss: 0.1392 - val_accuracy: 0.9583\n",
            "Epoch 25/30\n",
            "51/51 [==============================] - 0s 4ms/step - loss: 0.0310 - accuracy: 0.9975 - val_loss: 0.1368 - val_accuracy: 0.9583\n",
            "Epoch 26/30\n",
            "51/51 [==============================] - 0s 3ms/step - loss: 0.0311 - accuracy: 0.9969 - val_loss: 0.1372 - val_accuracy: 0.9583\n",
            "Epoch 27/30\n",
            "51/51 [==============================] - 0s 3ms/step - loss: 0.0285 - accuracy: 0.9975 - val_loss: 0.1377 - val_accuracy: 0.9583\n",
            "Epoch 28/30\n",
            "51/51 [==============================] - 0s 3ms/step - loss: 0.0259 - accuracy: 0.9975 - val_loss: 0.1375 - val_accuracy: 0.9559\n",
            "Epoch 29/30\n",
            "51/51 [==============================] - 0s 3ms/step - loss: 0.0235 - accuracy: 0.9994 - val_loss: 0.1362 - val_accuracy: 0.9583\n",
            "Epoch 30/30\n",
            "51/51 [==============================] - 0s 4ms/step - loss: 0.0193 - accuracy: 1.0000 - val_loss: 0.1372 - val_accuracy: 0.9583\n"
          ],
          "name": "stdout"
        },
        {
          "output_type": "display_data",
          "data": {
            "image/png": "[encoded data removed]",
            "text/plain": [
              "<Figure size 432x288 with 1 Axes>"
            ]
          },
          "metadata": {
            "tags": [],
            "needs_background": "light"
          }
        },
        {
          "output_type": "display_data",
          "data": {
            "image/png": "[encoded data removed]",
            "text/plain": [
              "<Figure size 432x288 with 1 Axes>"
            ]
          },
          "metadata": {
            "tags": [],
            "needs_background": "light"
          }
        }
      ]
    },
    {
      "cell_type": "markdown",
      "metadata": {
        "id": "Jr7i02VBGf-0",
        "colab_type": "text"
      },
      "source": [
        "## **Now, creating Meta and Vacs (tsv file) for TensorFlow Projector**"
      ]
    },
    {
      "cell_type": "code",
      "metadata": {
        "id": "tjeMNppQO_qN",
        "colab_type": "code",
        "colab": {
          "base_uri": "https://localhost:8080/",
          "height": 36
        },
        "outputId": "ae6fe6dd-d4a2-49f7-967a-25ba235f0ae6"
      },
      "source": [
        "reverse_word_index = dict([(value, key) for (key, value) in word_index.items()])\n",
        "\n",
        "def decode_sentence(text):\n",
        "    return ' '.join([reverse_word_index.get(i, '?') for i in text])\n",
        "\n",
        "e = Model.layers[0]\n",
        "weights = e.get_weights()[0]\n",
        "print(weights.shape) # shape: (vocab_size, embedding_dim)\n",
        "\n",
        "assert(weights.shape == (vocab_size, embedding_dim))"
      ],
      "execution_count": null,
      "outputs": [
        {
          "output_type": "stream",
          "text": [
            "(1000, 16)\n"
          ],
          "name": "stdout"
        }
      ]
    },
    {
      "cell_type": "code",
      "metadata": {
        "id": "pFXb6VeMUVGK",
        "colab_type": "code",
        "colab": {
          "base_uri": "https://localhost:8080/",
          "height": 17
        },
        "outputId": "80e86b8b-90b6-4c35-b3ef-c7bfa765e772"
      },
      "source": [
        "import io\n",
        "\n",
        "out_v = io.open('vecs.tsv', 'w', encoding='utf-8')\n",
        "out_m = io.open('meta.tsv', 'w', encoding='utf-8')\n",
        "for word_num in range(1, vocab_size):\n",
        "  word = reverse_word_index[word_num]\n",
        "  embeddings = weights[word_num]\n",
        "  out_m.write(word + \"\\n\")\n",
        "  out_v.write('\\t'.join([str(x) for x in embeddings]) + \"\\n\")\n",
        "out_v.close()\n",
        "out_m.close()\n",
        "\n",
        "try:\n",
        "  from google.colab import files\n",
        "except ImportError:\n",
        "  pass\n",
        "else:\n",
        "  files.download('vecs.tsv')\n",
        "  files.download('meta.tsv')"
      ],
      "execution_count": null,
      "outputs": [
        {
          "output_type": "display_data",
          "data": {
            "application/javascript": [
              "\n",
              "    async function download(id, filename, size) {\n",
              "      if (!google.colab.kernel.accessAllowed) {\n",
              "        return;\n",
              "      }\n",
              "      const div = document.createElement('div');\n",
              "      const label = document.createElement('label');\n",
              "      label.textContent = `Downloading \"${filename}\": `;\n",
              "      div.appendChild(label);\n",
              "      const progress = document.createElement('progress');\n",
              "      progress.max = size;\n",
              "      div.appendChild(progress);\n",
              "      document.body.appendChild(div);\n",
              "\n",
              "      const buffers = [];\n",
              "      let downloaded = 0;\n",
              "\n",
              "      const channel = await google.colab.kernel.comms.open(id);\n",
              "      // Send a message to notify the kernel that we're ready.\n",
              "      channel.send({})\n",
              "\n",
              "      for await (const message of channel.messages) {\n",
              "        // Send a message to notify the kernel that we're ready.\n",
              "        channel.send({})\n",
              "        if (message.buffers) {\n",
              "          for (const buffer of message.buffers) {\n",
              "            buffers.push(buffer);\n",
              "            downloaded += buffer.byteLength;\n",
              "            progress.value = downloaded;\n",
              "          }\n",
              "        }\n",
              "      }\n",
              "      const blob = new Blob(buffers, {type: 'application/binary'});\n",
              "      const a = document.createElement('a');\n",
              "      a.href = window.URL.createObjectURL(blob);\n",
              "      a.download = filename;\n",
              "      div.appendChild(a);\n",
              "      a.click();\n",
              "      div.remove();\n",
              "    }\n",
              "  "
            ],
            "text/plain": [
              "<IPython.core.display.Javascript object>"
            ]
          },
          "metadata": {
            "tags": []
          }
        },
        {
          "output_type": "display_data",
          "data": {
            "application/javascript": [
              "download(\"download_2d52e74c-507a-45fa-a59f-87abb57a7087\", \"vecs.tsv\", 183877)"
            ],
            "text/plain": [
              "<IPython.core.display.Javascript object>"
            ]
          },
          "metadata": {
            "tags": []
          }
        },
        {
          "output_type": "display_data",
          "data": {
            "application/javascript": [
              "\n",
              "    async function download(id, filename, size) {\n",
              "      if (!google.colab.kernel.accessAllowed) {\n",
              "        return;\n",
              "      }\n",
              "      const div = document.createElement('div');\n",
              "      const label = document.createElement('label');\n",
              "      label.textContent = `Downloading \"${filename}\": `;\n",
              "      div.appendChild(label);\n",
              "      const progress = document.createElement('progress');\n",
              "      progress.max = size;\n",
              "      div.appendChild(progress);\n",
              "      document.body.appendChild(div);\n",
              "\n",
              "      const buffers = [];\n",
              "      let downloaded = 0;\n",
              "\n",
              "      const channel = await google.colab.kernel.comms.open(id);\n",
              "      // Send a message to notify the kernel that we're ready.\n",
              "      channel.send({})\n",
              "\n",
              "      for await (const message of channel.messages) {\n",
              "        // Send a message to notify the kernel that we're ready.\n",
              "        channel.send({})\n",
              "        if (message.buffers) {\n",
              "          for (const buffer of message.buffers) {\n",
              "            buffers.push(buffer);\n",
              "            downloaded += buffer.byteLength;\n",
              "            progress.value = downloaded;\n",
              "          }\n",
              "        }\n",
              "      }\n",
              "      const blob = new Blob(buffers, {type: 'application/binary'});\n",
              "      const a = document.createElement('a');\n",
              "      a.href = window.URL.createObjectURL(blob);\n",
              "      a.download = filename;\n",
              "      div.appendChild(a);\n",
              "      a.click();\n",
              "      div.remove();\n",
              "    }\n",
              "  "
            ],
            "text/plain": [
              "<IPython.core.display.Javascript object>"
            ]
          },
          "metadata": {
            "tags": []
          }
        },
        {
          "output_type": "display_data",
          "data": {
            "application/javascript": [
              "download(\"download_0a66b372-c63e-4f94-8265-45a96a3fc710\", \"meta.tsv\", 6569)"
            ],
            "text/plain": [
              "<IPython.core.display.Javascript object>"
            ]
          },
          "metadata": {
            "tags": []
          }
        }
      ]
    },
    {
      "cell_type": "markdown",
      "metadata": {
        "id": "iF-lj32HVsRT",
        "colab_type": "text"
      },
      "source": [
        "## **Let's Test it**"
      ]
    },
    {
      "cell_type": "code",
      "metadata": {
        "id": "fsrOXx6AWF5s",
        "colab_type": "code",
        "colab": {
          "base_uri": "https://localhost:8080/",
          "height": 110
        },
        "outputId": "7abbbc48-f6c4-40eb-ff93-9d51a52bbedc"
      },
      "source": [
        "sentence = \"tory leader unveils spending plan tory leader michael howard \"\n",
        "sentence2 = \"Deep learning is evolving day by day, lot os stuffs to learn\"\n",
        "sentence3 = \"our prime minister gave very nice sppech about the situation of our country\"\n",
        "sequence = tokenizer.texts_to_sequences([sentence])\n",
        "print(sequence)\n",
        "sequence2 = tokenizer.texts_to_sequences([sentence2])\n",
        "print(sequence2)\n",
        "sequence3 = tokenizer.texts_to_sequences([sentence3])\n",
        "print(sequence3)\n",
        "new_padded = pad_sequences(sequence3,maxlen=max_length)\n",
        "Model.predict(new_padded)"
      ],
      "execution_count": null,
      "outputs": [
        {
          "output_type": "stream",
          "text": [
            "[[315, 258, 1, 275, 490, 315, 258, 248, 193]]\n",
            "[[1, 1, 1, 1, 105, 1, 105, 291, 1, 1, 439, 1]]\n",
            "[[1, 177, 74, 884, 1, 1, 1, 1, 1, 913, 1, 1, 91]]\n"
          ],
          "name": "stdout"
        },
        {
          "output_type": "execute_result",
          "data": {
            "text/plain": [
              "array([[3.3083043e-07, 1.3094142e-03, 9.5280409e-03, 6.3625276e-07,\n",
              "        3.5243091e-05, 9.8912632e-01]], dtype=float32)"
            ]
          },
          "metadata": {
            "tags": []
          },
          "execution_count": 43
        }
      ]
    },
    {
      "cell_type": "code",
      "metadata": {
        "id": "SiAVBmXXWrl3",
        "colab_type": "code",
        "colab": {
          "base_uri": "https://localhost:8080/",
          "height": 54
        },
        "outputId": "0b3d4205-4f5b-4227-cfd5-211bd9d4dc23"
      },
      "source": [
        "new_padded = pad_sequences(sequence2,maxlen=max_length)\n",
        "Model.predict(new_padded)"
      ],
      "execution_count": null,
      "outputs": [
        {
          "output_type": "execute_result",
          "data": {
            "text/plain": [
              "array([[2.2922634e-07, 3.8434219e-04, 2.8957285e-03, 6.2816014e-07,\n",
              "        3.3159882e-05, 9.9668592e-01]], dtype=float32)"
            ]
          },
          "metadata": {
            "tags": []
          },
          "execution_count": 40
        }
      ]
    },
    {
      "cell_type": "code",
      "metadata": {
        "id": "InzO8XEkW_8L",
        "colab_type": "code",
        "colab": {}
      },
      "source": [
        ""
      ],
      "execution_count": null,
      "outputs": []
    }
  ]
}