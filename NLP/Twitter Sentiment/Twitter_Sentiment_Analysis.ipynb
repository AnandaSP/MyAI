{
  "nbformat": 4,
  "nbformat_minor": 0,
  "metadata": {
    "colab": {
      "name": "Twitter_Sentiment_Analysis",
      "provenance": [],
      "collapsed_sections": []
    },
    "kernelspec": {
      "name": "python3",
      "display_name": "Python 3"
    },
    "accelerator": "GPU"
  },
  "cells": [
    {
      "cell_type": "code",
      "metadata": {
        "id": "hSkMIEpRAosk",
        "colab_type": "code",
        "colab": {}
      },
      "source": [
        ""
      ],
      "execution_count": null,
      "outputs": []
    },
    {
      "cell_type": "code",
      "metadata": {
        "id": "1sanopG-DwRw",
        "colab_type": "code",
        "colab": {}
      },
      "source": [
        ""
      ],
      "execution_count": null,
      "outputs": []
    },
    {
      "cell_type": "code",
      "metadata": {
        "id": "uDv0kBss7Uel",
        "colab_type": "code",
        "colab": {
          "base_uri": "https://localhost:8080/",
          "height": 355
        },
        "outputId": "84705dc8-3709-48b3-d51c-308968793aae"
      },
      "source": [
        "# https://drive.google.com/uc?export=download&confirm=mfh4&id=1hGVp7cqisPBxXtPm0HyYbWizZ7K0M5oZ\n",
        "# https://drive.google.com/file/d/1UI-2m9UGNJ-UnPEYqEZVW-jxnHYE5xaD/view?usp=sharing\n",
        "\"\"\"\n",
        "!pip install wget\n",
        "\n",
        "import wget\n",
        "url = \"https://gigafilehost.com/file/6148523063484d364c79396b636d6c325a53356e6232396e62475575593239744c325a70624755765a43387856556b744d6d30355655644f53693156626c424657584646576c5a584c577034626b685a5254563459555176646d6c6c64773d3d?dl=3\"\n",
        "wget.download(url, \"/tmp/twitter.csv\")\n",
        "\"\"\"\n",
        "\n",
        "!wget --no-check-certificate \\\n",
        "    https://gigafilehost.com/file/6148523063484d364c79396b636d6c325a53356e6232396e62475575593239744c325a70624755765a43387856556b744d6d30355655644f53693156626c424657584646576c5a584c577034626b685a5254563459555176646d6c6c64773d3d?dl=3 \\\n",
        "    -O /tmp/Twitter.csv"
      ],
      "execution_count": null,
      "outputs": [
        {
          "output_type": "stream",
          "text": [
            "--2020-09-17 05:02:57--  https://gigafilehost.com/file/6148523063484d364c79396b636d6c325a53356e6232396e62475575593239744c325a70624755765a43387856556b744d6d30355655644f53693156626c424657584646576c5a584c577034626b685a5254563459555176646d6c6c64773d3d?dl=3\n",
            "Resolving gigafilehost.com (gigafilehost.com)... 104.18.32.229, 104.18.33.229, 172.67.164.124, ...\n",
            "Connecting to gigafilehost.com (gigafilehost.com)|104.18.32.229|:443... connected.\n",
            "HTTP request sent, awaiting response... 307 Temporary Redirect\n",
            "Location: https://doc-0c-50-docs.googleusercontent.com/docs/securesc/ha0ro937gcuc7l7deffksulhg5h7mbp1/03luogcrs4m79tobi9etipbbfjku69eo/1600318950000/05300042213365893851/*/1UI-2m9UGNJ-UnPEYqEZVW-jxnHYE5xaD?e=download [following]\n",
            "Warning: wildcards not supported in HTTP.\n",
            "--2020-09-17 05:02:59--  https://doc-0c-50-docs.googleusercontent.com/docs/securesc/ha0ro937gcuc7l7deffksulhg5h7mbp1/03luogcrs4m79tobi9etipbbfjku69eo/1600318950000/05300042213365893851/*/1UI-2m9UGNJ-UnPEYqEZVW-jxnHYE5xaD?e=download\n",
            "Resolving doc-0c-50-docs.googleusercontent.com (doc-0c-50-docs.googleusercontent.com)... 74.125.142.132, 2607:f8b0:400e:c08::84\n",
            "Connecting to doc-0c-50-docs.googleusercontent.com (doc-0c-50-docs.googleusercontent.com)|74.125.142.132|:443... connected.\n",
            "HTTP request sent, awaiting response... 200 OK\n",
            "Length: unspecified [text/csv]\n",
            "Saving to: ‘/tmp/Twitter.csv’\n",
            "\n",
            "/tmp/Twitter.csv        [          <=>       ] 227.74M  98.7MB/s    in 2.3s    \n",
            "\n",
            "2020-09-17 05:03:02 (98.7 MB/s) - ‘/tmp/Twitter.csv’ saved [238803811]\n",
            "\n"
          ],
          "name": "stdout"
        }
      ]
    },
    {
      "cell_type": "code",
      "metadata": {
        "id": "BKxBlPaI596a",
        "colab_type": "code",
        "colab": {
          "base_uri": "https://localhost:8080/",
          "height": 206
        },
        "outputId": "0ea3283e-4190-4c04-81a2-4313ce031ef6"
      },
      "source": [
        "# !pip install iconv\n",
        "# iconv -f LATIN1 -t UTF8 Twitter.csv -o twitter.csv\n",
        "\n",
        "import pandas as pd\n",
        "\n",
        "df = pd.read_csv(\"/tmp/Twitter.csv\", encoding = \"ISO-8859-1\", names = [\"label\", \"IDs\", \"Timestamp\", \"Query\", \"User\", \"Sentence\"])\n",
        "df.head()"
      ],
      "execution_count": null,
      "outputs": [
        {
          "output_type": "execute_result",
          "data": {
            "text/html": [
              "<div>\n",
              "<style scoped>\n",
              "    .dataframe tbody tr th:only-of-type {\n",
              "        vertical-align: middle;\n",
              "    }\n",
              "\n",
              "    .dataframe tbody tr th {\n",
              "        vertical-align: top;\n",
              "    }\n",
              "\n",
              "    .dataframe thead th {\n",
              "        text-align: right;\n",
              "    }\n",
              "</style>\n",
              "<table border=\"1\" class=\"dataframe\">\n",
              "  <thead>\n",
              "    <tr style=\"text-align: right;\">\n",
              "      <th></th>\n",
              "      <th>label</th>\n",
              "      <th>IDs</th>\n",
              "      <th>Timestamp</th>\n",
              "      <th>Query</th>\n",
              "      <th>User</th>\n",
              "      <th>Sentence</th>\n",
              "    </tr>\n",
              "  </thead>\n",
              "  <tbody>\n",
              "    <tr>\n",
              "      <th>0</th>\n",
              "      <td>0</td>\n",
              "      <td>1467810369</td>\n",
              "      <td>Mon Apr 06 22:19:45 PDT 2009</td>\n",
              "      <td>NO_QUERY</td>\n",
              "      <td>_TheSpecialOne_</td>\n",
              "      <td>@switchfoot http://twitpic.com/2y1zl - Awww, t...</td>\n",
              "    </tr>\n",
              "    <tr>\n",
              "      <th>1</th>\n",
              "      <td>0</td>\n",
              "      <td>1467810672</td>\n",
              "      <td>Mon Apr 06 22:19:49 PDT 2009</td>\n",
              "      <td>NO_QUERY</td>\n",
              "      <td>scotthamilton</td>\n",
              "      <td>is upset that he can't update his Facebook by ...</td>\n",
              "    </tr>\n",
              "    <tr>\n",
              "      <th>2</th>\n",
              "      <td>0</td>\n",
              "      <td>1467810917</td>\n",
              "      <td>Mon Apr 06 22:19:53 PDT 2009</td>\n",
              "      <td>NO_QUERY</td>\n",
              "      <td>mattycus</td>\n",
              "      <td>@Kenichan I dived many times for the ball. Man...</td>\n",
              "    </tr>\n",
              "    <tr>\n",
              "      <th>3</th>\n",
              "      <td>0</td>\n",
              "      <td>1467811184</td>\n",
              "      <td>Mon Apr 06 22:19:57 PDT 2009</td>\n",
              "      <td>NO_QUERY</td>\n",
              "      <td>ElleCTF</td>\n",
              "      <td>my whole body feels itchy and like its on fire</td>\n",
              "    </tr>\n",
              "    <tr>\n",
              "      <th>4</th>\n",
              "      <td>0</td>\n",
              "      <td>1467811193</td>\n",
              "      <td>Mon Apr 06 22:19:57 PDT 2009</td>\n",
              "      <td>NO_QUERY</td>\n",
              "      <td>Karoli</td>\n",
              "      <td>@nationwideclass no, it's not behaving at all....</td>\n",
              "    </tr>\n",
              "  </tbody>\n",
              "</table>\n",
              "</div>"
            ],
            "text/plain": [
              "   label  ...                                           Sentence\n",
              "0      0  ...  @switchfoot http://twitpic.com/2y1zl - Awww, t...\n",
              "1      0  ...  is upset that he can't update his Facebook by ...\n",
              "2      0  ...  @Kenichan I dived many times for the ball. Man...\n",
              "3      0  ...    my whole body feels itchy and like its on fire \n",
              "4      0  ...  @nationwideclass no, it's not behaving at all....\n",
              "\n",
              "[5 rows x 6 columns]"
            ]
          },
          "metadata": {
            "tags": []
          },
          "execution_count": 2
        }
      ]
    },
    {
      "cell_type": "code",
      "metadata": {
        "id": "jGoulpdTQtyM",
        "colab_type": "code",
        "colab": {
          "base_uri": "https://localhost:8080/",
          "height": 73
        },
        "outputId": "de3d07ce-97f1-4a4b-9957-31aeda16c148"
      },
      "source": [
        "df[\"label\"].value_counts()"
      ],
      "execution_count": null,
      "outputs": [
        {
          "output_type": "execute_result",
          "data": {
            "text/plain": [
              "4    800000\n",
              "0    800000\n",
              "Name: label, dtype: int64"
            ]
          },
          "metadata": {
            "tags": []
          },
          "execution_count": 3
        }
      ]
    },
    {
      "cell_type": "code",
      "metadata": {
        "id": "nN306LY05EWu",
        "colab_type": "code",
        "colab": {
          "base_uri": "https://localhost:8080/",
          "height": 73
        },
        "outputId": "1f1000f7-86ca-4691-d50e-85590aa08306"
      },
      "source": [
        "df = df.sample(frac = 1)\n",
        "corpus = df[\"Sentence\"].values.tolist()\n",
        "print(\"No. of sentences ---> \", len(corpus))\n",
        "labels = df[\"label\"].replace(4, 1).values.tolist()\n",
        "\n",
        "print(\"First label and sentence is:\\n\", str(labels[1]) + \"----->\" + corpus[1])"
      ],
      "execution_count": null,
      "outputs": [
        {
          "output_type": "stream",
          "text": [
            "No. of sentences --->  1600000\n",
            "First label and sentence is:\n",
            " 0----->Not feeling well again  I think Iv got food poisoning :-S\n"
          ],
          "name": "stdout"
        }
      ]
    },
    {
      "cell_type": "code",
      "metadata": {
        "id": "LNQHStt7QjCW",
        "colab_type": "code",
        "colab": {
          "base_uri": "https://localhost:8080/",
          "height": 36
        },
        "outputId": "bfb00869-7c64-4077-8e24-065efce64f73"
      },
      "source": [
        "set(labels)"
      ],
      "execution_count": null,
      "outputs": [
        {
          "output_type": "execute_result",
          "data": {
            "text/plain": [
              "{0, 1}"
            ]
          },
          "metadata": {
            "tags": []
          },
          "execution_count": 5
        }
      ]
    },
    {
      "cell_type": "code",
      "metadata": {
        "id": "Qxr7oD9PQlOG",
        "colab_type": "code",
        "colab": {}
      },
      "source": [
        ""
      ],
      "execution_count": null,
      "outputs": []
    },
    {
      "cell_type": "code",
      "metadata": {
        "id": "Dn1__aEoKKQd",
        "colab_type": "code",
        "colab": {
          "base_uri": "https://localhost:8080/",
          "height": 317
        },
        "outputId": "10b45a06-2642-4a0d-a8d7-503cc3bc7e34"
      },
      "source": [
        "import tensorflow as tf\n",
        "from tensorflow.keras.preprocessing.text import Tokenizer\n",
        "from tensorflow.keras.preprocessing.sequence import pad_sequences\n",
        "from tensorflow.keras.utils import to_categorical\n",
        "from tensorflow.keras import regularizers\n",
        "import numpy as np\n",
        "from tensorflow.keras.optimizers import Adam\n",
        "import matplotlib.pyplot as plt\n",
        "from IPython.display import display\n",
        "from IPython.html import widgets \n",
        "from IPython.display import display\n",
        "\n",
        "\n",
        "trunc_type='post'\n",
        "padding_type='post'\n",
        "oov_tok = \"<OOV>\"\n",
        "training_portion = .9\n",
        "# num_epochs = 50\n",
        "embedding_dim = 100\n",
        "max_length = 32\n",
        "\n",
        "\n",
        "\n",
        "# Tokenizing Sentences\n",
        "token = Tokenizer(oov_token = oov_tok)\n",
        "token.fit_on_texts(corpus)\n",
        "word_idx = token.word_index\n",
        "sequences = token.texts_to_sequences(corpus)\n",
        "padded_val = pad_sequences(sequences, maxlen = max_length, padding = padding_type, truncating = trunc_type)\n",
        "\n",
        "vocab_size = len(word_idx)\n",
        "print(\"vocabulary size is ---> \", vocab_size)\n",
        "\n",
        "# No Need to to tokenize labels as labels are numerical\n",
        "\n",
        "\n",
        "training_size = int(len(labels) * training_portion)\n",
        "\n",
        "training_padded = padded_val[0:training_size]\n",
        "testing_padded = padded_val[training_size:]\n",
        "training_label = labels[0:training_size]\n",
        "testing_label = labels[training_size:]\n",
        "\n",
        "\n",
        "\n",
        "# Note this is the 100 dimension version of GloVe from Stanford\n",
        "# Got this from Laurence's repo\n",
        "\n",
        "\n",
        "!wget --no-check-certificate \\\n",
        "    https://storage.googleapis.com/laurencemoroney-blog.appspot.com/glove.6B.100d.txt \\\n",
        "    -O /tmp/glove.6B.100d.txt\n",
        "embeddings_index = {};\n",
        "with open('/tmp/glove.6B.100d.txt') as f:\n",
        "    for line in f:\n",
        "        values = line.split();\n",
        "        word = values[0];\n",
        "        coefs = np.asarray(values[1:], dtype='float32');\n",
        "        embeddings_index[word] = coefs;\n",
        "\n",
        "embeddings_matrix = np.zeros((vocab_size+1, embedding_dim));\n",
        "for word, i in word_idx.items():\n",
        "    embedding_vector = embeddings_index.get(word);\n",
        "    if embedding_vector is not None:\n",
        "        embeddings_matrix[i] = embedding_vector;\n",
        "\n",
        "print(\"Length of embedding matrix: \", len(embeddings_matrix))\n",
        "\n",
        "\n"
      ],
      "execution_count": null,
      "outputs": [
        {
          "output_type": "stream",
          "text": [
            "/usr/local/lib/python3.6/dist-packages/IPython/html.py:14: ShimWarning: The `IPython.html` package has been deprecated since IPython 4.0. You should import from `notebook` instead. `IPython.html.widgets` has moved to `ipywidgets`.\n",
            "  \"`IPython.html.widgets` has moved to `ipywidgets`.\", ShimWarning)\n"
          ],
          "name": "stderr"
        },
        {
          "output_type": "stream",
          "text": [
            "vocabulary size is --->  690961\n",
            "--2020-09-17 05:07:59--  https://storage.googleapis.com/laurencemoroney-blog.appspot.com/glove.6B.100d.txt\n",
            "Resolving storage.googleapis.com (storage.googleapis.com)... 74.125.135.128, 74.125.195.128, 74.125.142.128, ...\n",
            "Connecting to storage.googleapis.com (storage.googleapis.com)|74.125.135.128|:443... connected.\n",
            "HTTP request sent, awaiting response... 200 OK\n",
            "Length: 347116733 (331M) [text/plain]\n",
            "Saving to: ‘/tmp/glove.6B.100d.txt’\n",
            "\n",
            "/tmp/glove.6B.100d. 100%[===================>] 331.04M   189MB/s    in 1.8s    \n",
            "\n",
            "2020-09-17 05:08:01 (189 MB/s) - ‘/tmp/glove.6B.100d.txt’ saved [347116733/347116733]\n",
            "\n",
            "Length of embedding matrix:  690962\n"
          ],
          "name": "stdout"
        }
      ]
    },
    {
      "cell_type": "code",
      "metadata": {
        "id": "eJUSg3NQc4l0",
        "colab_type": "code",
        "colab": {
          "base_uri": "https://localhost:8080/",
          "height": 36
        },
        "outputId": "82896e4e-2983-47b6-dfcc-4a10e7679c59"
      },
      "source": [
        "len(training_padded)"
      ],
      "execution_count": null,
      "outputs": [
        {
          "output_type": "execute_result",
          "data": {
            "text/plain": [
              "1440000"
            ]
          },
          "metadata": {
            "tags": []
          },
          "execution_count": 7
        }
      ]
    },
    {
      "cell_type": "code",
      "metadata": {
        "id": "dwVU9QrVNXgv",
        "colab_type": "code",
        "colab": {
          "base_uri": "https://localhost:8080/",
          "height": 1000
        },
        "outputId": "90ec69e8-a12f-4558-cfac-98d14bb54cf9"
      },
      "source": [
        "train_padded = np.array(training_padded)\n",
        "train_label = np.array(training_label)\n",
        "test_padded = np.array(testing_padded)\n",
        "test_label = np.array(testing_label)\n",
        "\n",
        "epochs = 50\n",
        "\n",
        "model = tf.keras.Sequential([\n",
        "    tf.keras.layers.Embedding(vocab_size+1, embedding_dim, input_length=max_length, weights=[embeddings_matrix], trainable=False),\n",
        "    tf.keras.layers.Dropout(0.2),\n",
        "    tf.keras.layers.Conv1D(64, 5, activation='relu'),\n",
        "    tf.keras.layers.MaxPooling1D(pool_size=4),\n",
        "    tf.keras.layers.LSTM(64),\n",
        "    tf.keras.layers.Dense(1, activation='sigmoid')\n",
        "])\n",
        "model.compile(loss='binary_crossentropy',optimizer='adam',metrics=['accuracy'])\n",
        "model.summary()\n",
        "\n",
        "\n",
        "history = model.fit(train_padded, train_label, epochs=epochs, validation_data=(test_padded, test_label), verbose=1)\n",
        "\n",
        "print(\"Training Done....!!!!\")"
      ],
      "execution_count": null,
      "outputs": [
        {
          "output_type": "stream",
          "text": [
            "Model: \"sequential\"\n",
            "_________________________________________________________________\n",
            "Layer (type)                 Output Shape              Param #   \n",
            "=================================================================\n",
            "embedding (Embedding)        (None, 32, 100)           69096200  \n",
            "_________________________________________________________________\n",
            "dropout (Dropout)            (None, 32, 100)           0         \n",
            "_________________________________________________________________\n",
            "conv1d (Conv1D)              (None, 28, 64)            32064     \n",
            "_________________________________________________________________\n",
            "max_pooling1d (MaxPooling1D) (None, 7, 64)             0         \n",
            "_________________________________________________________________\n",
            "lstm (LSTM)                  (None, 64)                33024     \n",
            "_________________________________________________________________\n",
            "dense (Dense)                (None, 1)                 65        \n",
            "=================================================================\n",
            "Total params: 69,161,353\n",
            "Trainable params: 65,153\n",
            "Non-trainable params: 69,096,200\n",
            "_________________________________________________________________\n",
            "Epoch 1/50\n",
            "45000/45000 [==============================] - 159s 4ms/step - loss: 0.4915 - accuracy: 0.7592 - val_loss: 0.4527 - val_accuracy: 0.7847\n",
            "Epoch 2/50\n",
            "45000/45000 [==============================] - 160s 4ms/step - loss: 0.4639 - accuracy: 0.7772 - val_loss: 0.4461 - val_accuracy: 0.7888\n",
            "Epoch 3/50\n",
            "45000/45000 [==============================] - 162s 4ms/step - loss: 0.4568 - accuracy: 0.7826 - val_loss: 0.4386 - val_accuracy: 0.7930\n",
            "Epoch 4/50\n",
            "45000/45000 [==============================] - 165s 4ms/step - loss: 0.4529 - accuracy: 0.7848 - val_loss: 0.4394 - val_accuracy: 0.7925\n",
            "Epoch 5/50\n",
            "45000/45000 [==============================] - 165s 4ms/step - loss: 0.4508 - accuracy: 0.7863 - val_loss: 0.4371 - val_accuracy: 0.7935\n",
            "Epoch 6/50\n",
            "45000/45000 [==============================] - 163s 4ms/step - loss: 0.4491 - accuracy: 0.7869 - val_loss: 0.4358 - val_accuracy: 0.7948\n",
            "Epoch 7/50\n",
            "45000/45000 [==============================] - 166s 4ms/step - loss: 0.4475 - accuracy: 0.7881 - val_loss: 0.4359 - val_accuracy: 0.7957\n",
            "Epoch 8/50\n",
            "45000/45000 [==============================] - 163s 4ms/step - loss: 0.4468 - accuracy: 0.7888 - val_loss: 0.4339 - val_accuracy: 0.7961\n",
            "Epoch 9/50\n",
            "45000/45000 [==============================] - 163s 4ms/step - loss: 0.4461 - accuracy: 0.7890 - val_loss: 0.4337 - val_accuracy: 0.7964\n",
            "Epoch 10/50\n",
            "45000/45000 [==============================] - 162s 4ms/step - loss: 0.4458 - accuracy: 0.7896 - val_loss: 0.4324 - val_accuracy: 0.7973\n",
            "Epoch 11/50\n",
            "45000/45000 [==============================] - 162s 4ms/step - loss: 0.4450 - accuracy: 0.7897 - val_loss: 0.4322 - val_accuracy: 0.7976\n",
            "Epoch 12/50\n",
            "45000/45000 [==============================] - 161s 4ms/step - loss: 0.4447 - accuracy: 0.7900 - val_loss: 0.4324 - val_accuracy: 0.7981\n",
            "Epoch 13/50\n",
            "45000/45000 [==============================] - 162s 4ms/step - loss: 0.4444 - accuracy: 0.7901 - val_loss: 0.4326 - val_accuracy: 0.7980\n",
            "Epoch 14/50\n",
            "45000/45000 [==============================] - 161s 4ms/step - loss: 0.4439 - accuracy: 0.7910 - val_loss: 0.4321 - val_accuracy: 0.7972\n",
            "Epoch 15/50\n",
            "45000/45000 [==============================] - 164s 4ms/step - loss: 0.4441 - accuracy: 0.7909 - val_loss: 0.4324 - val_accuracy: 0.7979\n",
            "Epoch 16/50\n",
            "45000/45000 [==============================] - 163s 4ms/step - loss: 0.4442 - accuracy: 0.7909 - val_loss: 0.4327 - val_accuracy: 0.7974\n",
            "Epoch 17/50\n",
            "45000/45000 [==============================] - 164s 4ms/step - loss: 0.4438 - accuracy: 0.7907 - val_loss: 0.4321 - val_accuracy: 0.7971\n",
            "Epoch 18/50\n",
            "45000/45000 [==============================] - 161s 4ms/step - loss: 0.4435 - accuracy: 0.7912 - val_loss: 0.4321 - val_accuracy: 0.7977\n",
            "Epoch 19/50\n",
            "45000/45000 [==============================] - 161s 4ms/step - loss: 0.4439 - accuracy: 0.7908 - val_loss: 0.4336 - val_accuracy: 0.7969\n",
            "Epoch 20/50\n",
            "45000/45000 [==============================] - 158s 4ms/step - loss: 0.4438 - accuracy: 0.7908 - val_loss: 0.4320 - val_accuracy: 0.7976\n",
            "Epoch 21/50\n",
            "45000/45000 [==============================] - 159s 4ms/step - loss: 0.4439 - accuracy: 0.7905 - val_loss: 0.4353 - val_accuracy: 0.7963\n",
            "Epoch 22/50\n",
            "45000/45000 [==============================] - 158s 4ms/step - loss: 0.4438 - accuracy: 0.7908 - val_loss: 0.4324 - val_accuracy: 0.7975\n",
            "Epoch 23/50\n",
            "45000/45000 [==============================] - 163s 4ms/step - loss: 0.4439 - accuracy: 0.7908 - val_loss: 0.4344 - val_accuracy: 0.7966\n",
            "Epoch 24/50\n",
            "45000/45000 [==============================] - 164s 4ms/step - loss: 0.4443 - accuracy: 0.7910 - val_loss: 0.4328 - val_accuracy: 0.7977\n",
            "Epoch 25/50\n",
            "45000/45000 [==============================] - 162s 4ms/step - loss: 0.4444 - accuracy: 0.7907 - val_loss: 0.4317 - val_accuracy: 0.7982\n",
            "Epoch 26/50\n",
            "45000/45000 [==============================] - 161s 4ms/step - loss: 0.4439 - accuracy: 0.7906 - val_loss: 0.4386 - val_accuracy: 0.7943\n",
            "Epoch 27/50\n",
            "45000/45000 [==============================] - 166s 4ms/step - loss: 0.4443 - accuracy: 0.7906 - val_loss: 0.4337 - val_accuracy: 0.7965\n",
            "Epoch 28/50\n",
            "45000/45000 [==============================] - 166s 4ms/step - loss: 0.4442 - accuracy: 0.7907 - val_loss: 0.4325 - val_accuracy: 0.7974\n",
            "Epoch 29/50\n",
            "45000/45000 [==============================] - 168s 4ms/step - loss: 0.4443 - accuracy: 0.7906 - val_loss: 0.4325 - val_accuracy: 0.7972\n",
            "Epoch 30/50\n",
            "45000/45000 [==============================] - 169s 4ms/step - loss: 0.4442 - accuracy: 0.7908 - val_loss: 0.4359 - val_accuracy: 0.7966\n",
            "Epoch 31/50\n",
            "45000/45000 [==============================] - 167s 4ms/step - loss: 0.4448 - accuracy: 0.7904 - val_loss: 0.4327 - val_accuracy: 0.7975\n",
            "Epoch 32/50\n",
            "45000/45000 [==============================] - 165s 4ms/step - loss: 0.4449 - accuracy: 0.7908 - val_loss: 0.4337 - val_accuracy: 0.7966\n",
            "Epoch 33/50\n",
            "45000/45000 [==============================] - 163s 4ms/step - loss: 0.4444 - accuracy: 0.7909 - val_loss: 0.4329 - val_accuracy: 0.7973\n",
            "Epoch 34/50\n",
            "45000/45000 [==============================] - 164s 4ms/step - loss: 0.4445 - accuracy: 0.7910 - val_loss: 0.4329 - val_accuracy: 0.7969\n",
            "Epoch 35/50\n",
            "45000/45000 [==============================] - 162s 4ms/step - loss: 0.4448 - accuracy: 0.7910 - val_loss: 0.4351 - val_accuracy: 0.7956\n",
            "Epoch 36/50\n",
            "45000/45000 [==============================] - 163s 4ms/step - loss: 0.4449 - accuracy: 0.7907 - val_loss: 0.4333 - val_accuracy: 0.7973\n",
            "Epoch 37/50\n",
            "45000/45000 [==============================] - 162s 4ms/step - loss: 0.4449 - accuracy: 0.7906 - val_loss: 0.4343 - val_accuracy: 0.7961\n",
            "Epoch 38/50\n",
            "45000/45000 [==============================] - 163s 4ms/step - loss: 0.4454 - accuracy: 0.7905 - val_loss: 0.4358 - val_accuracy: 0.7953\n",
            "Epoch 39/50\n",
            "45000/45000 [==============================] - 163s 4ms/step - loss: 0.4458 - accuracy: 0.7903 - val_loss: 0.4343 - val_accuracy: 0.7964\n",
            "Epoch 40/50\n",
            "45000/45000 [==============================] - 164s 4ms/step - loss: 0.4458 - accuracy: 0.7901 - val_loss: 0.4348 - val_accuracy: 0.7958\n",
            "Epoch 41/50\n",
            "45000/45000 [==============================] - 166s 4ms/step - loss: 0.4457 - accuracy: 0.7904 - val_loss: 0.4350 - val_accuracy: 0.7967\n",
            "Epoch 42/50\n",
            "45000/45000 [==============================] - 163s 4ms/step - loss: 0.4463 - accuracy: 0.7898 - val_loss: 0.4350 - val_accuracy: 0.7963\n",
            "Epoch 43/50\n",
            "45000/45000 [==============================] - 162s 4ms/step - loss: 0.4463 - accuracy: 0.7896 - val_loss: 0.4352 - val_accuracy: 0.7956\n",
            "Epoch 44/50\n",
            "45000/45000 [==============================] - 161s 4ms/step - loss: 0.4470 - accuracy: 0.7893 - val_loss: 0.4362 - val_accuracy: 0.7957\n",
            "Epoch 45/50\n",
            "45000/45000 [==============================] - 161s 4ms/step - loss: 0.4468 - accuracy: 0.7897 - val_loss: 0.4338 - val_accuracy: 0.7967\n",
            "Epoch 46/50\n",
            "45000/45000 [==============================] - 159s 4ms/step - loss: 0.4467 - accuracy: 0.7897 - val_loss: 0.4349 - val_accuracy: 0.7964\n",
            "Epoch 47/50\n",
            "45000/45000 [==============================] - 162s 4ms/step - loss: 0.4469 - accuracy: 0.7897 - val_loss: 0.4356 - val_accuracy: 0.7955\n",
            "Epoch 48/50\n",
            "45000/45000 [==============================] - 159s 4ms/step - loss: 0.4467 - accuracy: 0.7898 - val_loss: 0.4354 - val_accuracy: 0.7962\n",
            "Epoch 49/50\n",
            "45000/45000 [==============================] - 160s 4ms/step - loss: 0.4470 - accuracy: 0.7894 - val_loss: 0.4352 - val_accuracy: 0.7965\n",
            "Epoch 50/50\n",
            "45000/45000 [==============================] - 158s 4ms/step - loss: 0.4473 - accuracy: 0.7896 - val_loss: 0.4363 - val_accuracy: 0.7958\n",
            "Training Done....!!!!\n"
          ],
          "name": "stdout"
        }
      ]
    },
    {
      "cell_type": "code",
      "metadata": {
        "id": "ykpwYCICceAe",
        "colab_type": "code",
        "colab": {
          "base_uri": "https://localhost:8080/",
          "height": 610
        },
        "outputId": "9c1adc35-6a03-45d5-e222-5cbb68db8a64"
      },
      "source": [
        "import matplotlib.image  as mpimg\n",
        "import matplotlib.pyplot as plt\n",
        "\n",
        "acc=history.history['accuracy']\n",
        "val_acc=history.history['val_accuracy']\n",
        "loss=history.history['loss']\n",
        "val_loss=history.history['val_loss']\n",
        "\n",
        "epochs=range(len(acc)) # Get number of epochs\n",
        "\n",
        "#------------------------------------------------\n",
        "# Plot training and validation accuracy per epoch\n",
        "#------------------------------------------------\n",
        "plt.plot(epochs, acc, 'r')\n",
        "plt.plot(epochs, val_acc, 'b')\n",
        "plt.title('Training and validation accuracy')\n",
        "plt.xlabel(\"Epochs\")\n",
        "plt.ylabel(\"Accuracy\")\n",
        "plt.legend([\"Accuracy\", \"Validation Accuracy\"])\n",
        "\n",
        "plt.figure()\n",
        "\n",
        "#------------------------------------------------\n",
        "# Plot training and validation loss per epoch\n",
        "#------------------------------------------------\n",
        "plt.plot(epochs, loss, 'r')\n",
        "plt.plot(epochs, val_loss, 'b')\n",
        "plt.title('Training and validation loss')\n",
        "plt.xlabel(\"Epochs\")\n",
        "plt.ylabel(\"Loss\")\n",
        "plt.legend([\"Loss\", \"Validation Loss\"])\n",
        "\n",
        "plt.figure()"
      ],
      "execution_count": null,
      "outputs": [
        {
          "output_type": "execute_result",
          "data": {
            "text/plain": [
              "<Figure size 432x288 with 0 Axes>"
            ]
          },
          "metadata": {
            "tags": []
          },
          "execution_count": 9
        },
        {
          "output_type": "display_data",
          "data": {
            "image/png": "[encoded data removed]",
            "text/plain": [
              "<Figure size 432x288 with 1 Axes>"
            ]
          },
          "metadata": {
            "tags": [],
            "needs_background": "light"
          }
        },
        {
          "output_type": "display_data",
          "data": {
            "image/png": "[encoded data removed]",
            "text/plain": [
              "<Figure size 432x288 with 1 Axes>"
            ]
          },
          "metadata": {
            "tags": [],
            "needs_background": "light"
          }
        },
        {
          "output_type": "display_data",
          "data": {
            "text/plain": [
              "<Figure size 432x288 with 0 Axes>"
            ]
          },
          "metadata": {
            "tags": []
          }
        }
      ]
    },
    {
      "cell_type": "markdown",
      "metadata": {
        "id": "CiMJU1v8qG25",
        "colab_type": "text"
      },
      "source": [
        "## **Let's use a different model**"
      ]
    },
    {
      "cell_type": "code",
      "metadata": {
        "id": "BhjUxQMSqHLa",
        "colab_type": "code",
        "colab": {
          "base_uri": "https://localhost:8080/",
          "height": 764
        },
        "outputId": "b9d22e54-deba-4252-a32c-6c63d070736d"
      },
      "source": [
        "model2 = tf.keras.Sequential([\n",
        "             tf.keras.layers.Embedding(vocab_size+1, embedding_dim, input_length=max_length, weights=[embeddings_matrix], trainable=False),\n",
        "             tf.keras.layers.Dropout(0.2),\n",
        "             tf.keras.layers.Conv1D(128, 5, activation='relu'),\n",
        "             tf.keras.layers.Bidirectional(tf.keras.layers.LSTM(32, return_sequences=True)),\n",
        "             tf.keras.layers.Bidirectional(tf.keras.layers.LSTM(8, return_sequences=True)),\n",
        "             tf.keras.layers.GlobalAveragePooling1D(),\n",
        "             tf.keras.layers.Dense(128, activation = \"relu\"),\n",
        "             tf.keras.layers.Dropout(0.2),\n",
        "             tf.keras.layers.Dense(1, activation = \"sigmoid\")                                   \n",
        "])\n",
        "\n",
        "\n",
        "model2.compile(optimizer = Adam(beta_1=0.9, beta_2=0.999, epsilon=1e-08), \n",
        "              loss = \"binary_crossentropy\", \n",
        "              metrics = [\"accuracy\"])\n",
        "  \n",
        "model2.summary()\n",
        "\n",
        "\n",
        "early_stop = tf.keras.callbacks.EarlyStopping(\n",
        "    monitor='val_loss', patience=20, verbose = 1, restore_best_weights=True)\n",
        "  \n",
        "reduce_lr = tf.keras.callbacks.ReduceLROnPlateau(\n",
        "    monitor='val_accuracy', factor=0.5, patience=12, verbose = 1,\n",
        "    min_delta=0.01, min_lr=0.001)\n",
        "\n",
        "history2 = model2.fit(train_padded, train_label, epochs=50, validation_data=(test_padded, test_label), callbacks = [early_stop, reduce_lr], verbose = 1)\n"
      ],
      "execution_count": null,
      "outputs": [
        {
          "output_type": "stream",
          "text": [
            "Model: \"sequential_3\"\n",
            "_________________________________________________________________\n",
            "Layer (type)                 Output Shape              Param #   \n",
            "=================================================================\n",
            "embedding_3 (Embedding)      (None, 32, 100)           69096200  \n",
            "_________________________________________________________________\n",
            "dropout_5 (Dropout)          (None, 32, 100)           0         \n",
            "_________________________________________________________________\n",
            "conv1d_3 (Conv1D)            (None, 28, 128)           64128     \n",
            "_________________________________________________________________\n",
            "bidirectional_4 (Bidirection (None, 28, 64)            41216     \n",
            "_________________________________________________________________\n",
            "bidirectional_5 (Bidirection (None, 28, 16)            4672      \n",
            "_________________________________________________________________\n",
            "global_average_pooling1d_2 ( (None, 16)                0         \n",
            "_________________________________________________________________\n",
            "dense_5 (Dense)              (None, 128)               2176      \n",
            "_________________________________________________________________\n",
            "dropout_6 (Dropout)          (None, 128)               0         \n",
            "_________________________________________________________________\n",
            "dense_6 (Dense)              (None, 1)                 129       \n",
            "=================================================================\n",
            "Total params: 69,208,521\n",
            "Trainable params: 112,321\n",
            "Non-trainable params: 69,096,200\n",
            "_________________________________________________________________\n",
            "Epoch 1/50\n",
            "45000/45000 [==============================] - 485s 11ms/step - loss: 0.4737 - accuracy: 0.7712 - val_loss: 0.4332 - val_accuracy: 0.7965\n",
            "Epoch 2/50\n",
            "45000/45000 [==============================] - 497s 11ms/step - loss: 0.4373 - accuracy: 0.7946 - val_loss: 0.4194 - val_accuracy: 0.8039\n",
            "Epoch 3/50\n",
            "45000/45000 [==============================] - 485s 11ms/step - loss: 0.4282 - accuracy: 0.8007 - val_loss: 0.4158 - val_accuracy: 0.8080\n",
            "Epoch 4/50\n",
            "45000/45000 [==============================] - 495s 11ms/step - loss: 0.4236 - accuracy: 0.8030 - val_loss: 0.4145 - val_accuracy: 0.8071\n",
            "Epoch 5/50\n",
            "45000/45000 [==============================] - 515s 11ms/step - loss: 0.4208 - accuracy: 0.8048 - val_loss: 0.4103 - val_accuracy: 0.8090\n",
            "Epoch 6/50\n",
            "45000/45000 [==============================] - 516s 11ms/step - loss: 0.4188 - accuracy: 0.8059 - val_loss: 0.4097 - val_accuracy: 0.8110\n",
            "Epoch 7/50\n",
            "27639/45000 [=================>............] - ETA: 3:07 - loss: 0.4160 - accuracy: 0.8078Buffered data was truncated after reaching the output size limit."
          ],
          "name": "stdout"
        }
      ]
    },
    {
      "cell_type": "code",
      "metadata": {
        "id": "8kMHouHPAHhk",
        "colab_type": "code",
        "colab": {
          "base_uri": "https://localhost:8080/",
          "height": 249
        },
        "outputId": "cd066f22-9c38-46b3-d090-2bb737e25fa3"
      },
      "source": [
        "import matplotlib.image  as mpimg\n",
        "import matplotlib.pyplot as plt\n",
        "\n",
        "acc=history2.history['accuracy']\n",
        "val_acc=history2.history2['val_accuracy']\n",
        "loss=history2.history2['loss']\n",
        "val_loss=history2.history2['val_loss']\n",
        "\n",
        "epochs=range(len(acc)) # Get number of epochs\n",
        "\n",
        "#------------------------------------------------\n",
        "# Plot training and validation accuracy per epoch\n",
        "#------------------------------------------------\n",
        "plt.plot(epochs, acc, 'r')\n",
        "plt.plot(epochs, val_acc, 'b')\n",
        "plt.title('Training and validation accuracy')\n",
        "plt.xlabel(\"Epochs\")\n",
        "plt.ylabel(\"Accuracy\")\n",
        "plt.legend([\"Accuracy\", \"Validation Accuracy\"])\n",
        "\n",
        "plt.figure()\n",
        "\n",
        "#------------------------------------------------\n",
        "# Plot training and validation loss per epoch\n",
        "#------------------------------------------------\n",
        "plt.plot(epochs, loss, 'r')\n",
        "plt.plot(epochs, val_loss, 'b')\n",
        "plt.title('Training and validation loss')\n",
        "plt.xlabel(\"Epochs\")\n",
        "plt.ylabel(\"Loss\")\n",
        "plt.legend([\"Loss\", \"Validation Loss\"])\n",
        "\n",
        "plt.figure()"
      ],
      "execution_count": null,
      "outputs": [
        {
          "output_type": "error",
          "ename": "NameError",
          "evalue": "ignored",
          "traceback": [
            "\u001b[0;31m---------------------------------------------------------------------------\u001b[0m",
            "\u001b[0;31mNameError\u001b[0m                                 Traceback (most recent call last)",
            "\u001b[0;32m<ipython-input-14-09ba37705e0d>\u001b[0m in \u001b[0;36m<module>\u001b[0;34m()\u001b[0m\n\u001b[1;32m      2\u001b[0m \u001b[0;32mimport\u001b[0m \u001b[0mmatplotlib\u001b[0m\u001b[0;34m.\u001b[0m\u001b[0mpyplot\u001b[0m \u001b[0;32mas\u001b[0m \u001b[0mplt\u001b[0m\u001b[0;34m\u001b[0m\u001b[0;34m\u001b[0m\u001b[0m\n\u001b[1;32m      3\u001b[0m \u001b[0;34m\u001b[0m\u001b[0m\n\u001b[0;32m----> 4\u001b[0;31m \u001b[0macc\u001b[0m\u001b[0;34m=\u001b[0m\u001b[0mhistory2\u001b[0m\u001b[0;34m.\u001b[0m\u001b[0mhistory\u001b[0m\u001b[0;34m[\u001b[0m\u001b[0;34m'accuracy'\u001b[0m\u001b[0;34m]\u001b[0m\u001b[0;34m\u001b[0m\u001b[0;34m\u001b[0m\u001b[0m\n\u001b[0m\u001b[1;32m      5\u001b[0m \u001b[0mval_acc\u001b[0m\u001b[0;34m=\u001b[0m\u001b[0mhistory2\u001b[0m\u001b[0;34m.\u001b[0m\u001b[0mhistory2\u001b[0m\u001b[0;34m[\u001b[0m\u001b[0;34m'val_accuracy'\u001b[0m\u001b[0;34m]\u001b[0m\u001b[0;34m\u001b[0m\u001b[0;34m\u001b[0m\u001b[0m\n\u001b[1;32m      6\u001b[0m \u001b[0mloss\u001b[0m\u001b[0;34m=\u001b[0m\u001b[0mhistory2\u001b[0m\u001b[0;34m.\u001b[0m\u001b[0mhistory2\u001b[0m\u001b[0;34m[\u001b[0m\u001b[0;34m'loss'\u001b[0m\u001b[0;34m]\u001b[0m\u001b[0;34m\u001b[0m\u001b[0;34m\u001b[0m\u001b[0m\n",
            "\u001b[0;31mNameError\u001b[0m: name 'history2' is not defined"
          ]
        }
      ]
    },
    {
      "cell_type": "code",
      "metadata": {
        "id": "xB9z3c5y8kZb",
        "colab_type": "code",
        "colab": {}
      },
      "source": [
        ""
      ],
      "execution_count": null,
      "outputs": []
    }
  ]
}