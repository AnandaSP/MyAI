{
  "nbformat": 4,
  "nbformat_minor": 0,
  "metadata": {
    "colab": {
      "name": "Twitter_Sentiment_Analysis",
      "provenance": [],
      "collapsed_sections": []
    },
    "kernelspec": {
      "name": "python3",
      "display_name": "Python 3"
    },
    "accelerator": "GPU"
  },
  "cells": [
    {
      "cell_type": "code",
      "metadata": {
        "id": "hSkMIEpRAosk",
        "colab_type": "code",
        "colab": {}
      },
      "source": [
        ""
      ],
      "execution_count": null,
      "outputs": []
    },
    {
      "cell_type": "code",
      "metadata": {
        "id": "1sanopG-DwRw",
        "colab_type": "code",
        "colab": {}
      },
      "source": [
        ""
      ],
      "execution_count": null,
      "outputs": []
    },
    {
      "cell_type": "code",
      "metadata": {
        "id": "uDv0kBss7Uel",
        "colab_type": "code",
        "colab": {
          "base_uri": "https://localhost:8080/",
          "height": 355
        },
        "outputId": "7a8f69d3-177c-4a0d-f826-6b50e3f74e0f"
      },
      "source": [
        "# https://drive.google.com/uc?export=download&confirm=mfh4&id=1hGVp7cqisPBxXtPm0HyYbWizZ7K0M5oZ\n",
        "# https://drive.google.com/file/d/1UI-2m9UGNJ-UnPEYqEZVW-jxnHYE5xaD/view?usp=sharing\n",
        "\"\"\"\n",
        "!pip install wget\n",
        "\n",
        "import wget\n",
        "url = \"https://gigafilehost.com/file/6148523063484d364c79396b636d6c325a53356e6232396e62475575593239744c325a70624755765a43387856556b744d6d30355655644f53693156626c424657584646576c5a584c577034626b685a5254563459555176646d6c6c64773d3d?dl=3\"\n",
        "wget.download(url, \"/tmp/twitter.csv\")\n",
        "\"\"\"\n",
        "\n",
        "!wget --no-check-certificate \\\n",
        "    https://gigafilehost.com/file/6148523063484d364c79396b636d6c325a53356e6232396e62475575593239744c325a70624755765a43387856556b744d6d30355655644f53693156626c424657584646576c5a584c577034626b685a5254563459555176646d6c6c64773d3d?dl=3 \\\n",
        "    -O /tmp/Twitter.csv"
      ],
      "execution_count": null,
      "outputs": [
        {
          "output_type": "stream",
          "text": [
            "--2020-09-22 05:59:55--  https://gigafilehost.com/file/6148523063484d364c79396b636d6c325a53356e6232396e62475575593239744c325a70624755765a43387856556b744d6d30355655644f53693156626c424657584646576c5a584c577034626b685a5254563459555176646d6c6c64773d3d?dl=3\n",
            "Resolving gigafilehost.com (gigafilehost.com)... 104.18.32.229, 172.67.164.124, 104.18.33.229, ...\n",
            "Connecting to gigafilehost.com (gigafilehost.com)|104.18.32.229|:443... connected.\n",
            "HTTP request sent, awaiting response... 307 Temporary Redirect\n",
            "Location: https://doc-0c-50-docs.googleusercontent.com/docs/securesc/ha0ro937gcuc7l7deffksulhg5h7mbp1/gc13kkt2gb176gplc0o54154fr0dlrbv/1600754325000/05300042213365893851/*/1UI-2m9UGNJ-UnPEYqEZVW-jxnHYE5xaD?e=download [following]\n",
            "Warning: wildcards not supported in HTTP.\n",
            "--2020-09-22 05:59:56--  https://doc-0c-50-docs.googleusercontent.com/docs/securesc/ha0ro937gcuc7l7deffksulhg5h7mbp1/gc13kkt2gb176gplc0o54154fr0dlrbv/1600754325000/05300042213365893851/*/1UI-2m9UGNJ-UnPEYqEZVW-jxnHYE5xaD?e=download\n",
            "Resolving doc-0c-50-docs.googleusercontent.com (doc-0c-50-docs.googleusercontent.com)... 108.177.112.132, 2607:f8b0:4001:c12::84\n",
            "Connecting to doc-0c-50-docs.googleusercontent.com (doc-0c-50-docs.googleusercontent.com)|108.177.112.132|:443... connected.\n",
            "HTTP request sent, awaiting response... 200 OK\n",
            "Length: unspecified [text/csv]\n",
            "Saving to: ‘/tmp/Twitter.csv’\n",
            "\n",
            "/tmp/Twitter.csv        [         <=>        ] 227.74M   126MB/s    in 1.8s    \n",
            "\n",
            "2020-09-22 05:59:58 (126 MB/s) - ‘/tmp/Twitter.csv’ saved [238803811]\n",
            "\n"
          ],
          "name": "stdout"
        }
      ]
    },
    {
      "cell_type": "code",
      "metadata": {
        "id": "BKxBlPaI596a",
        "colab_type": "code",
        "colab": {
          "base_uri": "https://localhost:8080/",
          "height": 206
        },
        "outputId": "9da970ff-b5c5-402c-9d0f-0d7ae9c45716"
      },
      "source": [
        "# !pip install iconv\n",
        "# iconv -f LATIN1 -t UTF8 Twitter.csv -o twitter.csv\n",
        "\n",
        "import pandas as pd\n",
        "\n",
        "df = pd.read_csv(\"/tmp/Twitter.csv\", encoding = \"ISO-8859-1\", names = [\"label\", \"IDs\", \"Timestamp\", \"Query\", \"User\", \"Sentence\"])\n",
        "df.head()"
      ],
      "execution_count": null,
      "outputs": [
        {
          "output_type": "execute_result",
          "data": {
            "text/html": [
              "<div>\n",
              "<style scoped>\n",
              "    .dataframe tbody tr th:only-of-type {\n",
              "        vertical-align: middle;\n",
              "    }\n",
              "\n",
              "    .dataframe tbody tr th {\n",
              "        vertical-align: top;\n",
              "    }\n",
              "\n",
              "    .dataframe thead th {\n",
              "        text-align: right;\n",
              "    }\n",
              "</style>\n",
              "<table border=\"1\" class=\"dataframe\">\n",
              "  <thead>\n",
              "    <tr style=\"text-align: right;\">\n",
              "      <th></th>\n",
              "      <th>label</th>\n",
              "      <th>IDs</th>\n",
              "      <th>Timestamp</th>\n",
              "      <th>Query</th>\n",
              "      <th>User</th>\n",
              "      <th>Sentence</th>\n",
              "    </tr>\n",
              "  </thead>\n",
              "  <tbody>\n",
              "    <tr>\n",
              "      <th>0</th>\n",
              "      <td>0</td>\n",
              "      <td>1467810369</td>\n",
              "      <td>Mon Apr 06 22:19:45 PDT 2009</td>\n",
              "      <td>NO_QUERY</td>\n",
              "      <td>_TheSpecialOne_</td>\n",
              "      <td>@switchfoot http://twitpic.com/2y1zl - Awww, t...</td>\n",
              "    </tr>\n",
              "    <tr>\n",
              "      <th>1</th>\n",
              "      <td>0</td>\n",
              "      <td>1467810672</td>\n",
              "      <td>Mon Apr 06 22:19:49 PDT 2009</td>\n",
              "      <td>NO_QUERY</td>\n",
              "      <td>scotthamilton</td>\n",
              "      <td>is upset that he can't update his Facebook by ...</td>\n",
              "    </tr>\n",
              "    <tr>\n",
              "      <th>2</th>\n",
              "      <td>0</td>\n",
              "      <td>1467810917</td>\n",
              "      <td>Mon Apr 06 22:19:53 PDT 2009</td>\n",
              "      <td>NO_QUERY</td>\n",
              "      <td>mattycus</td>\n",
              "      <td>@Kenichan I dived many times for the ball. Man...</td>\n",
              "    </tr>\n",
              "    <tr>\n",
              "      <th>3</th>\n",
              "      <td>0</td>\n",
              "      <td>1467811184</td>\n",
              "      <td>Mon Apr 06 22:19:57 PDT 2009</td>\n",
              "      <td>NO_QUERY</td>\n",
              "      <td>ElleCTF</td>\n",
              "      <td>my whole body feels itchy and like its on fire</td>\n",
              "    </tr>\n",
              "    <tr>\n",
              "      <th>4</th>\n",
              "      <td>0</td>\n",
              "      <td>1467811193</td>\n",
              "      <td>Mon Apr 06 22:19:57 PDT 2009</td>\n",
              "      <td>NO_QUERY</td>\n",
              "      <td>Karoli</td>\n",
              "      <td>@nationwideclass no, it's not behaving at all....</td>\n",
              "    </tr>\n",
              "  </tbody>\n",
              "</table>\n",
              "</div>"
            ],
            "text/plain": [
              "   label  ...                                           Sentence\n",
              "0      0  ...  @switchfoot http://twitpic.com/2y1zl - Awww, t...\n",
              "1      0  ...  is upset that he can't update his Facebook by ...\n",
              "2      0  ...  @Kenichan I dived many times for the ball. Man...\n",
              "3      0  ...    my whole body feels itchy and like its on fire \n",
              "4      0  ...  @nationwideclass no, it's not behaving at all....\n",
              "\n",
              "[5 rows x 6 columns]"
            ]
          },
          "metadata": {
            "tags": []
          },
          "execution_count": 2
        }
      ]
    },
    {
      "cell_type": "code",
      "metadata": {
        "id": "jGoulpdTQtyM",
        "colab_type": "code",
        "colab": {
          "base_uri": "https://localhost:8080/",
          "height": 73
        },
        "outputId": "5d28ec20-8fa3-4bd0-a342-7afd751a0bc0"
      },
      "source": [
        "df[\"label\"].value_counts()"
      ],
      "execution_count": null,
      "outputs": [
        {
          "output_type": "execute_result",
          "data": {
            "text/plain": [
              "4    800000\n",
              "0    800000\n",
              "Name: label, dtype: int64"
            ]
          },
          "metadata": {
            "tags": []
          },
          "execution_count": 3
        }
      ]
    },
    {
      "cell_type": "code",
      "metadata": {
        "id": "nN306LY05EWu",
        "colab_type": "code",
        "colab": {
          "base_uri": "https://localhost:8080/",
          "height": 73
        },
        "outputId": "8e5b3110-6264-484c-f96d-5df57c51dc7e"
      },
      "source": [
        "df = df.sample(frac = 1)\n",
        "corpus = df[\"Sentence\"].values.tolist()\n",
        "print(\"No. of sentences ---> \", len(corpus))\n",
        "labels = df[\"label\"].replace(4, 1).values.tolist()\n",
        "\n",
        "print(\"First label and sentence is:\\n\", str(labels[1]) + \"----->\" + corpus[1])"
      ],
      "execution_count": null,
      "outputs": [
        {
          "output_type": "stream",
          "text": [
            "No. of sentences --->  1600000\n",
            "First label and sentence is:\n",
            " 1----->@breaksomething Cool graduation should be fun for you then! Enjoy the moment. \n"
          ],
          "name": "stdout"
        }
      ]
    },
    {
      "cell_type": "code",
      "metadata": {
        "id": "LNQHStt7QjCW",
        "colab_type": "code",
        "colab": {
          "base_uri": "https://localhost:8080/",
          "height": 36
        },
        "outputId": "f550fda6-5175-4c74-948c-a3255810a1d5"
      },
      "source": [
        "set(labels)"
      ],
      "execution_count": null,
      "outputs": [
        {
          "output_type": "execute_result",
          "data": {
            "text/plain": [
              "{0, 1}"
            ]
          },
          "metadata": {
            "tags": []
          },
          "execution_count": 5
        }
      ]
    },
    {
      "cell_type": "code",
      "metadata": {
        "id": "Qxr7oD9PQlOG",
        "colab_type": "code",
        "colab": {}
      },
      "source": [
        ""
      ],
      "execution_count": null,
      "outputs": []
    },
    {
      "cell_type": "code",
      "metadata": {
        "id": "Dn1__aEoKKQd",
        "colab_type": "code",
        "colab": {
          "base_uri": "https://localhost:8080/",
          "height": 317
        },
        "outputId": "4fbd6d99-829c-45ee-dd5a-2b91cdda4c50"
      },
      "source": [
        "import tensorflow as tf\n",
        "from tensorflow.keras.preprocessing.text import Tokenizer\n",
        "from tensorflow.keras.preprocessing.sequence import pad_sequences\n",
        "from tensorflow.keras.utils import to_categorical\n",
        "from tensorflow.keras import regularizers\n",
        "import numpy as np\n",
        "from tensorflow.keras.optimizers import Adam\n",
        "import matplotlib.pyplot as plt\n",
        "from IPython.display import display\n",
        "from IPython.html import widgets \n",
        "from IPython.display import display\n",
        "\n",
        "\n",
        "trunc_type='post'\n",
        "padding_type='post'\n",
        "oov_tok = \"<OOV>\"\n",
        "training_portion = .9\n",
        "# num_epochs = 50\n",
        "embedding_dim = 100\n",
        "max_length = 32\n",
        "\n",
        "\n",
        "\n",
        "# Tokenizing Sentences\n",
        "token = Tokenizer()\n",
        "token.fit_on_texts(corpus)\n",
        "word_idx = token.word_index\n",
        "sequences = token.texts_to_sequences(corpus)\n",
        "padded_val = pad_sequences(sequences, maxlen = max_length, padding = padding_type, truncating = trunc_type)\n",
        "\n",
        "vocab_size = len(word_idx)\n",
        "print(\"vocabulary size is ---> \", vocab_size)\n",
        "\n",
        "# No Need to to tokenize labels as labels are numerical\n",
        "\n",
        "\n",
        "training_size = int(len(labels) * training_portion)\n",
        "\n",
        "training_padded = padded_val[0:training_size]\n",
        "testing_padded = padded_val[training_size:]\n",
        "training_label = labels[0:training_size]\n",
        "testing_label = labels[training_size:]\n",
        "\n",
        "\n",
        "\n",
        "# Note this is the 100 dimension version of GloVe from Stanford\n",
        "# Got this from Laurence's repo\n",
        "\n",
        "\n",
        "!wget --no-check-certificate \\\n",
        "    https://storage.googleapis.com/laurencemoroney-blog.appspot.com/glove.6B.100d.txt \\\n",
        "    -O /tmp/glove.6B.100d.txt\n",
        "embeddings_index = {};\n",
        "with open('/tmp/glove.6B.100d.txt') as f:\n",
        "    for line in f:\n",
        "        values = line.split();\n",
        "        word = values[0];\n",
        "        coefs = np.asarray(values[1:], dtype='float32');\n",
        "        embeddings_index[word] = coefs;\n",
        "\n",
        "embeddings_matrix = np.zeros((vocab_size+1, embedding_dim));\n",
        "for word, i in word_idx.items():\n",
        "    embedding_vector = embeddings_index.get(word);\n",
        "    if embedding_vector is not None:\n",
        "        embeddings_matrix[i] = embedding_vector;\n",
        "\n",
        "print(\"Length of embedding matrix: \", len(embeddings_matrix))\n",
        "\n",
        "\n"
      ],
      "execution_count": null,
      "outputs": [
        {
          "output_type": "stream",
          "text": [
            "/usr/local/lib/python3.6/dist-packages/IPython/html.py:14: ShimWarning: The `IPython.html` package has been deprecated since IPython 4.0. You should import from `notebook` instead. `IPython.html.widgets` has moved to `ipywidgets`.\n",
            "  \"`IPython.html.widgets` has moved to `ipywidgets`.\", ShimWarning)\n"
          ],
          "name": "stderr"
        },
        {
          "output_type": "stream",
          "text": [
            "vocabulary size is --->  690960\n",
            "--2020-09-22 06:01:37--  https://storage.googleapis.com/laurencemoroney-blog.appspot.com/glove.6B.100d.txt\n",
            "Resolving storage.googleapis.com (storage.googleapis.com)... 172.217.212.128, 172.217.214.128, 108.177.111.128, ...\n",
            "Connecting to storage.googleapis.com (storage.googleapis.com)|172.217.212.128|:443... connected.\n",
            "HTTP request sent, awaiting response... 200 OK\n",
            "Length: 347116733 (331M) [text/plain]\n",
            "Saving to: ‘/tmp/glove.6B.100d.txt’\n",
            "\n",
            "/tmp/glove.6B.100d. 100%[===================>] 331.04M   133MB/s    in 2.5s    \n",
            "\n",
            "2020-09-22 06:01:40 (133 MB/s) - ‘/tmp/glove.6B.100d.txt’ saved [347116733/347116733]\n",
            "\n",
            "Length of embedding matrix:  690961\n"
          ],
          "name": "stdout"
        }
      ]
    },
    {
      "cell_type": "code",
      "metadata": {
        "id": "eJUSg3NQc4l0",
        "colab_type": "code",
        "colab": {
          "base_uri": "https://localhost:8080/",
          "height": 36
        },
        "outputId": "1311c717-e039-4d9f-ef55-2ba622703d3c"
      },
      "source": [
        "len(training_padded)"
      ],
      "execution_count": null,
      "outputs": [
        {
          "output_type": "execute_result",
          "data": {
            "text/plain": [
              "1440000"
            ]
          },
          "metadata": {
            "tags": []
          },
          "execution_count": 7
        }
      ]
    },
    {
      "cell_type": "code",
      "metadata": {
        "id": "dwVU9QrVNXgv",
        "colab_type": "code",
        "colab": {
          "base_uri": "https://localhost:8080/",
          "height": 1000
        },
        "outputId": "90ec69e8-a12f-4558-cfac-98d14bb54cf9"
      },
      "source": [
        "train_padded = np.array(training_padded)\n",
        "train_label = np.array(training_label)\n",
        "test_padded = np.array(testing_padded)\n",
        "test_label = np.array(testing_label)\n",
        "\n",
        "epochs = 50\n",
        "\n",
        "model = tf.keras.Sequential([\n",
        "    tf.keras.layers.Embedding(vocab_size+1, embedding_dim, input_length=max_length, weights=[embeddings_matrix], trainable=False),\n",
        "    tf.keras.layers.Dropout(0.2),\n",
        "    tf.keras.layers.Conv1D(64, 5, activation='relu'),\n",
        "    tf.keras.layers.MaxPooling1D(pool_size=4),\n",
        "    tf.keras.layers.LSTM(64),\n",
        "    tf.keras.layers.Dense(1, activation='sigmoid')\n",
        "])\n",
        "model.compile(loss='binary_crossentropy',optimizer='adam',metrics=['accuracy'])\n",
        "model.summary()\n",
        "\n",
        "\n",
        "history = model.fit(train_padded, train_label, epochs=epochs, validation_data=(test_padded, test_label), verbose=1)\n",
        "\n",
        "print(\"Training Done....!!!!\")"
      ],
      "execution_count": null,
      "outputs": [
        {
          "output_type": "stream",
          "text": [
            "Model: \"sequential\"\n",
            "_________________________________________________________________\n",
            "Layer (type)                 Output Shape              Param #   \n",
            "=================================================================\n",
            "embedding (Embedding)        (None, 32, 100)           69096200  \n",
            "_________________________________________________________________\n",
            "dropout (Dropout)            (None, 32, 100)           0         \n",
            "_________________________________________________________________\n",
            "conv1d (Conv1D)              (None, 28, 64)            32064     \n",
            "_________________________________________________________________\n",
            "max_pooling1d (MaxPooling1D) (None, 7, 64)             0         \n",
            "_________________________________________________________________\n",
            "lstm (LSTM)                  (None, 64)                33024     \n",
            "_________________________________________________________________\n",
            "dense (Dense)                (None, 1)                 65        \n",
            "=================================================================\n",
            "Total params: 69,161,353\n",
            "Trainable params: 65,153\n",
            "Non-trainable params: 69,096,200\n",
            "_________________________________________________________________\n",
            "Epoch 1/50\n",
            "45000/45000 [==============================] - 159s 4ms/step - loss: 0.4915 - accuracy: 0.7592 - val_loss: 0.4527 - val_accuracy: 0.7847\n",
            "Epoch 2/50\n",
            "45000/45000 [==============================] - 160s 4ms/step - loss: 0.4639 - accuracy: 0.7772 - val_loss: 0.4461 - val_accuracy: 0.7888\n",
            "Epoch 3/50\n",
            "45000/45000 [==============================] - 162s 4ms/step - loss: 0.4568 - accuracy: 0.7826 - val_loss: 0.4386 - val_accuracy: 0.7930\n",
            "Epoch 4/50\n",
            "45000/45000 [==============================] - 165s 4ms/step - loss: 0.4529 - accuracy: 0.7848 - val_loss: 0.4394 - val_accuracy: 0.7925\n",
            "Epoch 5/50\n",
            "45000/45000 [==============================] - 165s 4ms/step - loss: 0.4508 - accuracy: 0.7863 - val_loss: 0.4371 - val_accuracy: 0.7935\n",
            "Epoch 6/50\n",
            "45000/45000 [==============================] - 163s 4ms/step - loss: 0.4491 - accuracy: 0.7869 - val_loss: 0.4358 - val_accuracy: 0.7948\n",
            "Epoch 7/50\n",
            "45000/45000 [==============================] - 166s 4ms/step - loss: 0.4475 - accuracy: 0.7881 - val_loss: 0.4359 - val_accuracy: 0.7957\n",
            "Epoch 8/50\n",
            "45000/45000 [==============================] - 163s 4ms/step - loss: 0.4468 - accuracy: 0.7888 - val_loss: 0.4339 - val_accuracy: 0.7961\n",
            "Epoch 9/50\n",
            "45000/45000 [==============================] - 163s 4ms/step - loss: 0.4461 - accuracy: 0.7890 - val_loss: 0.4337 - val_accuracy: 0.7964\n",
            "Epoch 10/50\n",
            "45000/45000 [==============================] - 162s 4ms/step - loss: 0.4458 - accuracy: 0.7896 - val_loss: 0.4324 - val_accuracy: 0.7973\n",
            "Epoch 11/50\n",
            "45000/45000 [==============================] - 162s 4ms/step - loss: 0.4450 - accuracy: 0.7897 - val_loss: 0.4322 - val_accuracy: 0.7976\n",
            "Epoch 12/50\n",
            "45000/45000 [==============================] - 161s 4ms/step - loss: 0.4447 - accuracy: 0.7900 - val_loss: 0.4324 - val_accuracy: 0.7981\n",
            "Epoch 13/50\n",
            "45000/45000 [==============================] - 162s 4ms/step - loss: 0.4444 - accuracy: 0.7901 - val_loss: 0.4326 - val_accuracy: 0.7980\n",
            "Epoch 14/50\n",
            "45000/45000 [==============================] - 161s 4ms/step - loss: 0.4439 - accuracy: 0.7910 - val_loss: 0.4321 - val_accuracy: 0.7972\n",
            "Epoch 15/50\n",
            "45000/45000 [==============================] - 164s 4ms/step - loss: 0.4441 - accuracy: 0.7909 - val_loss: 0.4324 - val_accuracy: 0.7979\n",
            "Epoch 16/50\n",
            "45000/45000 [==============================] - 163s 4ms/step - loss: 0.4442 - accuracy: 0.7909 - val_loss: 0.4327 - val_accuracy: 0.7974\n",
            "Epoch 17/50\n",
            "45000/45000 [==============================] - 164s 4ms/step - loss: 0.4438 - accuracy: 0.7907 - val_loss: 0.4321 - val_accuracy: 0.7971\n",
            "Epoch 18/50\n",
            "45000/45000 [==============================] - 161s 4ms/step - loss: 0.4435 - accuracy: 0.7912 - val_loss: 0.4321 - val_accuracy: 0.7977\n",
            "Epoch 19/50\n",
            "45000/45000 [==============================] - 161s 4ms/step - loss: 0.4439 - accuracy: 0.7908 - val_loss: 0.4336 - val_accuracy: 0.7969\n",
            "Epoch 20/50\n",
            "45000/45000 [==============================] - 158s 4ms/step - loss: 0.4438 - accuracy: 0.7908 - val_loss: 0.4320 - val_accuracy: 0.7976\n",
            "Epoch 21/50\n",
            "45000/45000 [==============================] - 159s 4ms/step - loss: 0.4439 - accuracy: 0.7905 - val_loss: 0.4353 - val_accuracy: 0.7963\n",
            "Epoch 22/50\n",
            "45000/45000 [==============================] - 158s 4ms/step - loss: 0.4438 - accuracy: 0.7908 - val_loss: 0.4324 - val_accuracy: 0.7975\n",
            "Epoch 23/50\n",
            "45000/45000 [==============================] - 163s 4ms/step - loss: 0.4439 - accuracy: 0.7908 - val_loss: 0.4344 - val_accuracy: 0.7966\n",
            "Epoch 24/50\n",
            "45000/45000 [==============================] - 164s 4ms/step - loss: 0.4443 - accuracy: 0.7910 - val_loss: 0.4328 - val_accuracy: 0.7977\n",
            "Epoch 25/50\n",
            "45000/45000 [==============================] - 162s 4ms/step - loss: 0.4444 - accuracy: 0.7907 - val_loss: 0.4317 - val_accuracy: 0.7982\n",
            "Epoch 26/50\n",
            "45000/45000 [==============================] - 161s 4ms/step - loss: 0.4439 - accuracy: 0.7906 - val_loss: 0.4386 - val_accuracy: 0.7943\n",
            "Epoch 27/50\n",
            "45000/45000 [==============================] - 166s 4ms/step - loss: 0.4443 - accuracy: 0.7906 - val_loss: 0.4337 - val_accuracy: 0.7965\n",
            "Epoch 28/50\n",
            "45000/45000 [==============================] - 166s 4ms/step - loss: 0.4442 - accuracy: 0.7907 - val_loss: 0.4325 - val_accuracy: 0.7974\n",
            "Epoch 29/50\n",
            "45000/45000 [==============================] - 168s 4ms/step - loss: 0.4443 - accuracy: 0.7906 - val_loss: 0.4325 - val_accuracy: 0.7972\n",
            "Epoch 30/50\n",
            "45000/45000 [==============================] - 169s 4ms/step - loss: 0.4442 - accuracy: 0.7908 - val_loss: 0.4359 - val_accuracy: 0.7966\n",
            "Epoch 31/50\n",
            "45000/45000 [==============================] - 167s 4ms/step - loss: 0.4448 - accuracy: 0.7904 - val_loss: 0.4327 - val_accuracy: 0.7975\n",
            "Epoch 32/50\n",
            "45000/45000 [==============================] - 165s 4ms/step - loss: 0.4449 - accuracy: 0.7908 - val_loss: 0.4337 - val_accuracy: 0.7966\n",
            "Epoch 33/50\n",
            "45000/45000 [==============================] - 163s 4ms/step - loss: 0.4444 - accuracy: 0.7909 - val_loss: 0.4329 - val_accuracy: 0.7973\n",
            "Epoch 34/50\n",
            "45000/45000 [==============================] - 164s 4ms/step - loss: 0.4445 - accuracy: 0.7910 - val_loss: 0.4329 - val_accuracy: 0.7969\n",
            "Epoch 35/50\n",
            "45000/45000 [==============================] - 162s 4ms/step - loss: 0.4448 - accuracy: 0.7910 - val_loss: 0.4351 - val_accuracy: 0.7956\n",
            "Epoch 36/50\n",
            "45000/45000 [==============================] - 163s 4ms/step - loss: 0.4449 - accuracy: 0.7907 - val_loss: 0.4333 - val_accuracy: 0.7973\n",
            "Epoch 37/50\n",
            "45000/45000 [==============================] - 162s 4ms/step - loss: 0.4449 - accuracy: 0.7906 - val_loss: 0.4343 - val_accuracy: 0.7961\n",
            "Epoch 38/50\n",
            "45000/45000 [==============================] - 163s 4ms/step - loss: 0.4454 - accuracy: 0.7905 - val_loss: 0.4358 - val_accuracy: 0.7953\n",
            "Epoch 39/50\n",
            "45000/45000 [==============================] - 163s 4ms/step - loss: 0.4458 - accuracy: 0.7903 - val_loss: 0.4343 - val_accuracy: 0.7964\n",
            "Epoch 40/50\n",
            "45000/45000 [==============================] - 164s 4ms/step - loss: 0.4458 - accuracy: 0.7901 - val_loss: 0.4348 - val_accuracy: 0.7958\n",
            "Epoch 41/50\n",
            "45000/45000 [==============================] - 166s 4ms/step - loss: 0.4457 - accuracy: 0.7904 - val_loss: 0.4350 - val_accuracy: 0.7967\n",
            "Epoch 42/50\n",
            "45000/45000 [==============================] - 163s 4ms/step - loss: 0.4463 - accuracy: 0.7898 - val_loss: 0.4350 - val_accuracy: 0.7963\n",
            "Epoch 43/50\n",
            "45000/45000 [==============================] - 162s 4ms/step - loss: 0.4463 - accuracy: 0.7896 - val_loss: 0.4352 - val_accuracy: 0.7956\n",
            "Epoch 44/50\n",
            "45000/45000 [==============================] - 161s 4ms/step - loss: 0.4470 - accuracy: 0.7893 - val_loss: 0.4362 - val_accuracy: 0.7957\n",
            "Epoch 45/50\n",
            "45000/45000 [==============================] - 161s 4ms/step - loss: 0.4468 - accuracy: 0.7897 - val_loss: 0.4338 - val_accuracy: 0.7967\n",
            "Epoch 46/50\n",
            "45000/45000 [==============================] - 159s 4ms/step - loss: 0.4467 - accuracy: 0.7897 - val_loss: 0.4349 - val_accuracy: 0.7964\n",
            "Epoch 47/50\n",
            "45000/45000 [==============================] - 162s 4ms/step - loss: 0.4469 - accuracy: 0.7897 - val_loss: 0.4356 - val_accuracy: 0.7955\n",
            "Epoch 48/50\n",
            "45000/45000 [==============================] - 159s 4ms/step - loss: 0.4467 - accuracy: 0.7898 - val_loss: 0.4354 - val_accuracy: 0.7962\n",
            "Epoch 49/50\n",
            "45000/45000 [==============================] - 160s 4ms/step - loss: 0.4470 - accuracy: 0.7894 - val_loss: 0.4352 - val_accuracy: 0.7965\n",
            "Epoch 50/50\n",
            "45000/45000 [==============================] - 158s 4ms/step - loss: 0.4473 - accuracy: 0.7896 - val_loss: 0.4363 - val_accuracy: 0.7958\n",
            "Training Done....!!!!\n"
          ],
          "name": "stdout"
        }
      ]
    },
    {
      "cell_type": "code",
      "metadata": {
        "id": "ykpwYCICceAe",
        "colab_type": "code",
        "colab": {
          "base_uri": "https://localhost:8080/",
          "height": 610
        },
        "outputId": "9c1adc35-6a03-45d5-e222-5cbb68db8a64"
      },
      "source": [
        "import matplotlib.image  as mpimg\n",
        "import matplotlib.pyplot as plt\n",
        "\n",
        "acc=history.history['accuracy']\n",
        "val_acc=history.history['val_accuracy']\n",
        "loss=history.history['loss']\n",
        "val_loss=history.history['val_loss']\n",
        "\n",
        "epochs=range(len(acc)) # Get number of epochs\n",
        "\n",
        "#------------------------------------------------\n",
        "# Plot training and validation accuracy per epoch\n",
        "#------------------------------------------------\n",
        "plt.plot(epochs, acc, 'r')\n",
        "plt.plot(epochs, val_acc, 'b')\n",
        "plt.title('Training and validation accuracy')\n",
        "plt.xlabel(\"Epochs\")\n",
        "plt.ylabel(\"Accuracy\")\n",
        "plt.legend([\"Accuracy\", \"Validation Accuracy\"])\n",
        "\n",
        "plt.figure()\n",
        "\n",
        "#------------------------------------------------\n",
        "# Plot training and validation loss per epoch\n",
        "#------------------------------------------------\n",
        "plt.plot(epochs, loss, 'r')\n",
        "plt.plot(epochs, val_loss, 'b')\n",
        "plt.title('Training and validation loss')\n",
        "plt.xlabel(\"Epochs\")\n",
        "plt.ylabel(\"Loss\")\n",
        "plt.legend([\"Loss\", \"Validation Loss\"])\n",
        "\n",
        "plt.figure()"
      ],
      "execution_count": null,
      "outputs": [
        {
          "output_type": "execute_result",
          "data": {
            "text/plain": [
              "<Figure size 432x288 with 0 Axes>"
            ]
          },
          "metadata": {
            "tags": []
          },
          "execution_count": 9
        },
        {
          "output_type": "display_data",
          "data": {
            "image/png": "[encoded data removed]",
            "text/plain": [
              "<Figure size 432x288 with 1 Axes>"
            ]
          },
          "metadata": {
            "tags": [],
            "needs_background": "light"
          }
        },
        {
          "output_type": "display_data",
          "data": {
            "image/png": "[encoded data removed]",
            "text/plain": [
              "<Figure size 432x288 with 1 Axes>"
            ]
          },
          "metadata": {
            "tags": [],
            "needs_background": "light"
          }
        },
        {
          "output_type": "display_data",
          "data": {
            "text/plain": [
              "<Figure size 432x288 with 0 Axes>"
            ]
          },
          "metadata": {
            "tags": []
          }
        }
      ]
    },
    {
      "cell_type": "markdown",
      "metadata": {
        "id": "CiMJU1v8qG25",
        "colab_type": "text"
      },
      "source": [
        "## **Let's use a different model**"
      ]
    },
    {
      "cell_type": "code",
      "metadata": {
        "id": "BhjUxQMSqHLa",
        "colab_type": "code",
        "colab": {
          "base_uri": "https://localhost:8080/",
          "height": 1000
        },
        "outputId": "02ad0432-9fbe-42f3-9f56-d85e672c5f40"
      },
      "source": [
        "train_padded = np.array(training_padded)\n",
        "train_label = np.array(training_label)\n",
        "test_padded = np.array(testing_padded)\n",
        "test_label = np.array(testing_label)\n",
        "\n",
        "epochs = 50\n",
        "\n",
        "model2 = tf.keras.Sequential([\n",
        "             tf.keras.layers.Embedding(vocab_size+1, embedding_dim, input_length=max_length, weights=[embeddings_matrix], trainable=False),\n",
        "             tf.keras.layers.Dropout(0.3),\n",
        "             tf.keras.layers.Conv1D(128, 5, activation='relu'),\n",
        "             tf.keras.layers.BatchNormalization(),\n",
        "             tf.keras.layers.Bidirectional(tf.keras.layers.LSTM(64, return_sequences=True)),\n",
        "             tf.keras.layers.Bidirectional(tf.keras.layers.LSTM(8, return_sequences=True)),\n",
        "             tf.keras.layers.GlobalAveragePooling1D(),\n",
        "             tf.keras.layers.Dense(128, activation = \"relu\"),\n",
        "             tf.keras.layers.Dropout(0.3),\n",
        "             tf.keras.layers.Dense(1, activation = \"sigmoid\")                                   \n",
        "])\n",
        "\n",
        "\n",
        "model2.compile(optimizer = Adam(beta_1=0.9, beta_2=0.999, epsilon=1e-08), \n",
        "              loss = \"binary_crossentropy\", \n",
        "              metrics = [\"accuracy\"])\n",
        "  \n",
        "model2.summary()\n",
        "\n",
        "\n",
        "early_stop = tf.keras.callbacks.EarlyStopping(\n",
        "    monitor='val_loss', patience=20, verbose = 1, restore_best_weights=True)\n",
        "  \n",
        "reduce_lr = tf.keras.callbacks.ReduceLROnPlateau(\n",
        "    monitor='val_accuracy', factor=0.2, patience=12, verbose = 1,\n",
        "    min_delta=0.01, min_lr=0.001)\n",
        "\n",
        "history2 = model2.fit(train_padded, train_label, epochs=50, validation_data=(test_padded, test_label), callbacks = [early_stop, reduce_lr], verbose = 1)\n",
        "\n",
        "print(\"Training Done....!!!!\")"
      ],
      "execution_count": null,
      "outputs": [
        {
          "output_type": "stream",
          "text": [
            "Model: \"sequential_1\"\n",
            "_________________________________________________________________\n",
            "Layer (type)                 Output Shape              Param #   \n",
            "=================================================================\n",
            "embedding_1 (Embedding)      (None, 32, 100)           69096100  \n",
            "_________________________________________________________________\n",
            "dropout_2 (Dropout)          (None, 32, 100)           0         \n",
            "_________________________________________________________________\n",
            "conv1d_1 (Conv1D)            (None, 28, 128)           64128     \n",
            "_________________________________________________________________\n",
            "batch_normalization_1 (Batch (None, 28, 128)           512       \n",
            "_________________________________________________________________\n",
            "bidirectional_2 (Bidirection (None, 28, 128)           98816     \n",
            "_________________________________________________________________\n",
            "bidirectional_3 (Bidirection (None, 28, 16)            8768      \n",
            "_________________________________________________________________\n",
            "global_average_pooling1d_1 ( (None, 16)                0         \n",
            "_________________________________________________________________\n",
            "dense_2 (Dense)              (None, 128)               2176      \n",
            "_________________________________________________________________\n",
            "dropout_3 (Dropout)          (None, 128)               0         \n",
            "_________________________________________________________________\n",
            "dense_3 (Dense)              (None, 1)                 129       \n",
            "=================================================================\n",
            "Total params: 69,270,629\n",
            "Trainable params: 174,273\n",
            "Non-trainable params: 69,096,356\n",
            "_________________________________________________________________\n",
            "Epoch 1/50\n",
            "45000/45000 [==============================] - 547s 12ms/step - loss: 0.4858 - accuracy: 0.7631 - val_loss: 0.4342 - val_accuracy: 0.7969\n",
            "Epoch 2/50\n",
            "45000/45000 [==============================] - 523s 12ms/step - loss: 0.4485 - accuracy: 0.7877 - val_loss: 0.4216 - val_accuracy: 0.8037\n",
            "Epoch 3/50\n",
            "45000/45000 [==============================] - 495s 11ms/step - loss: 0.4373 - accuracy: 0.7949 - val_loss: 0.4155 - val_accuracy: 0.8074\n",
            "Epoch 4/50\n",
            "45000/45000 [==============================] - 490s 11ms/step - loss: 0.4297 - accuracy: 0.7995 - val_loss: 0.4087 - val_accuracy: 0.8108\n",
            "Epoch 5/50\n",
            "45000/45000 [==============================] - 488s 11ms/step - loss: 0.4242 - accuracy: 0.8027 - val_loss: 0.4061 - val_accuracy: 0.8123\n",
            "Epoch 6/50\n",
            "45000/45000 [==============================] - 488s 11ms/step - loss: 0.4202 - accuracy: 0.8051 - val_loss: 0.4042 - val_accuracy: 0.8140\n",
            "Epoch 7/50\n",
            "45000/45000 [==============================] - 487s 11ms/step - loss: 0.4168 - accuracy: 0.8072 - val_loss: 0.4014 - val_accuracy: 0.8156\n",
            "Epoch 8/50\n",
            "45000/45000 [==============================] - 487s 11ms/step - loss: 0.4135 - accuracy: 0.8091 - val_loss: 0.3990 - val_accuracy: 0.8165\n",
            "Epoch 9/50\n",
            "45000/45000 [==============================] - 490s 11ms/step - loss: 0.4114 - accuracy: 0.8104 - val_loss: 0.3982 - val_accuracy: 0.8181\n",
            "Epoch 10/50\n",
            "45000/45000 [==============================] - 489s 11ms/step - loss: 0.4089 - accuracy: 0.8118 - val_loss: 0.3957 - val_accuracy: 0.8190\n",
            "Epoch 11/50\n",
            "45000/45000 [==============================] - 487s 11ms/step - loss: 0.4071 - accuracy: 0.8130 - val_loss: 0.3958 - val_accuracy: 0.8183\n",
            "Epoch 12/50\n",
            "45000/45000 [==============================] - 486s 11ms/step - loss: 0.4054 - accuracy: 0.8142 - val_loss: 0.3959 - val_accuracy: 0.8199\n",
            "Epoch 13/50\n",
            "45000/45000 [==============================] - 488s 11ms/step - loss: 0.4039 - accuracy: 0.8147 - val_loss: 0.3937 - val_accuracy: 0.8202\n",
            "Epoch 14/50\n",
            "45000/45000 [==============================] - 486s 11ms/step - loss: 0.4024 - accuracy: 0.8155 - val_loss: 0.3942 - val_accuracy: 0.8192\n",
            "Epoch 15/50\n",
            "45000/45000 [==============================] - 486s 11ms/step - loss: 0.4017 - accuracy: 0.8161 - val_loss: 0.3924 - val_accuracy: 0.8202\n",
            "Epoch 16/50\n",
            "45000/45000 [==============================] - 488s 11ms/step - loss: 0.4003 - accuracy: 0.8164 - val_loss: 0.3916 - val_accuracy: 0.8209\n",
            "Epoch 17/50\n",
            "45000/45000 [==============================] - 487s 11ms/step - loss: 0.3994 - accuracy: 0.8173 - val_loss: 0.3903 - val_accuracy: 0.8221\n",
            "Epoch 18/50\n",
            "45000/45000 [==============================] - 486s 11ms/step - loss: 0.3980 - accuracy: 0.8182 - val_loss: 0.3893 - val_accuracy: 0.8234\n",
            "Epoch 19/50\n",
            "45000/45000 [==============================] - 486s 11ms/step - loss: 0.3977 - accuracy: 0.8182 - val_loss: 0.3901 - val_accuracy: 0.8223\n",
            "Epoch 20/50\n",
            "45000/45000 [==============================] - 485s 11ms/step - loss: 0.3970 - accuracy: 0.8189 - val_loss: 0.3892 - val_accuracy: 0.8228\n",
            "Epoch 21/50\n",
            "44996/45000 [============================>.] - ETA: 0s - loss: 0.3962 - accuracy: 0.8193\n",
            "Epoch 00021: ReduceLROnPlateau reducing learning rate to 0.001.\n",
            "45000/45000 [==============================] - 483s 11ms/step - loss: 0.3961 - accuracy: 0.8193 - val_loss: 0.3898 - val_accuracy: 0.8236\n",
            "Epoch 22/50\n",
            "45000/45000 [==============================] - 485s 11ms/step - loss: 0.3953 - accuracy: 0.8196 - val_loss: 0.3888 - val_accuracy: 0.8217\n",
            "Epoch 23/50\n",
            "45000/45000 [==============================] - 487s 11ms/step - loss: 0.3943 - accuracy: 0.8201 - val_loss: 0.3894 - val_accuracy: 0.8216\n",
            "Epoch 24/50\n",
            "45000/45000 [==============================] - 487s 11ms/step - loss: 0.3937 - accuracy: 0.8206 - val_loss: 0.3872 - val_accuracy: 0.8234\n",
            "Epoch 25/50\n",
            "45000/45000 [==============================] - 488s 11ms/step - loss: 0.3937 - accuracy: 0.8204 - val_loss: 0.3890 - val_accuracy: 0.8223\n",
            "Epoch 26/50\n",
            "45000/45000 [==============================] - 484s 11ms/step - loss: 0.3927 - accuracy: 0.8210 - val_loss: 0.3903 - val_accuracy: 0.8213\n",
            "Epoch 27/50\n",
            "45000/45000 [==============================] - 485s 11ms/step - loss: 0.3923 - accuracy: 0.8211 - val_loss: 0.3874 - val_accuracy: 0.8241\n",
            "Epoch 28/50\n",
            "45000/45000 [==============================] - 485s 11ms/step - loss: 0.3921 - accuracy: 0.8217 - val_loss: 0.3874 - val_accuracy: 0.8245\n",
            "Epoch 29/50\n",
            "45000/45000 [==============================] - 485s 11ms/step - loss: 0.3917 - accuracy: 0.8218 - val_loss: 0.3864 - val_accuracy: 0.8245\n",
            "Epoch 30/50\n",
            "45000/45000 [==============================] - 485s 11ms/step - loss: 0.3908 - accuracy: 0.8220 - val_loss: 0.3886 - val_accuracy: 0.8239\n",
            "Epoch 31/50\n",
            "45000/45000 [==============================] - 485s 11ms/step - loss: 0.3908 - accuracy: 0.8222 - val_loss: 0.3871 - val_accuracy: 0.8237\n",
            "Epoch 32/50\n",
            "45000/45000 [==============================] - 495s 11ms/step - loss: 0.3903 - accuracy: 0.8223 - val_loss: 0.3857 - val_accuracy: 0.8249\n",
            "Epoch 33/50\n",
            "44997/45000 [============================>.] - ETA: 0s - loss: 0.3899 - accuracy: 0.8226\n",
            "Epoch 00033: ReduceLROnPlateau reducing learning rate to 0.001.\n",
            "45000/45000 [==============================] - 484s 11ms/step - loss: 0.3899 - accuracy: 0.8226 - val_loss: 0.3923 - val_accuracy: 0.8246\n",
            "Epoch 34/50\n",
            "45000/45000 [==============================] - 487s 11ms/step - loss: 0.3898 - accuracy: 0.8227 - val_loss: 0.3866 - val_accuracy: 0.8249\n",
            "Epoch 35/50\n",
            "45000/45000 [==============================] - 484s 11ms/step - loss: 0.3895 - accuracy: 0.8230 - val_loss: 0.3851 - val_accuracy: 0.8258\n",
            "Epoch 36/50\n",
            "45000/45000 [==============================] - 498s 11ms/step - loss: 0.3892 - accuracy: 0.8232 - val_loss: 0.3854 - val_accuracy: 0.8243\n",
            "Epoch 37/50\n",
            "45000/45000 [==============================] - 532s 12ms/step - loss: 0.3888 - accuracy: 0.8232 - val_loss: 0.3861 - val_accuracy: 0.8254\n",
            "Epoch 38/50\n",
            "45000/45000 [==============================] - 500s 11ms/step - loss: 0.3883 - accuracy: 0.8234 - val_loss: 0.3869 - val_accuracy: 0.8242\n",
            "Epoch 39/50\n",
            "45000/45000 [==============================] - 488s 11ms/step - loss: 0.3878 - accuracy: 0.8236 - val_loss: 0.3859 - val_accuracy: 0.8256\n",
            "Epoch 40/50\n",
            "45000/45000 [==============================] - 484s 11ms/step - loss: 0.3879 - accuracy: 0.8241 - val_loss: 0.3879 - val_accuracy: 0.8245\n",
            "Epoch 41/50\n",
            "45000/45000 [==============================] - 526s 12ms/step - loss: 0.3875 - accuracy: 0.8240 - val_loss: 0.3888 - val_accuracy: 0.8241\n",
            "Epoch 42/50\n",
            "45000/45000 [==============================] - 500s 11ms/step - loss: 0.3873 - accuracy: 0.8243 - val_loss: 0.3856 - val_accuracy: 0.8255\n",
            "Epoch 43/50\n",
            "45000/45000 [==============================] - 492s 11ms/step - loss: 0.3871 - accuracy: 0.8244 - val_loss: 0.3859 - val_accuracy: 0.8250\n",
            "Epoch 44/50\n",
            "45000/45000 [==============================] - 486s 11ms/step - loss: 0.3872 - accuracy: 0.8242 - val_loss: 0.3845 - val_accuracy: 0.8252\n",
            "Epoch 45/50\n",
            "44997/45000 [============================>.] - ETA: 0s - loss: 0.3869 - accuracy: 0.8246\n",
            "Epoch 00045: ReduceLROnPlateau reducing learning rate to 0.001.\n",
            "45000/45000 [==============================] - 486s 11ms/step - loss: 0.3869 - accuracy: 0.8246 - val_loss: 0.3839 - val_accuracy: 0.8254\n",
            "Epoch 46/50\n",
            "45000/45000 [==============================] - 485s 11ms/step - loss: 0.3865 - accuracy: 0.8246 - val_loss: 0.3841 - val_accuracy: 0.8259\n",
            "Epoch 47/50\n",
            "45000/45000 [==============================] - 489s 11ms/step - loss: 0.3866 - accuracy: 0.8249 - val_loss: 0.3855 - val_accuracy: 0.8252\n",
            "Epoch 48/50\n",
            "45000/45000 [==============================] - 490s 11ms/step - loss: 0.3860 - accuracy: 0.8249 - val_loss: 0.3847 - val_accuracy: 0.8252\n",
            "Epoch 49/50\n",
            "45000/45000 [==============================] - 485s 11ms/step - loss: 0.3859 - accuracy: 0.8248 - val_loss: 0.3878 - val_accuracy: 0.8257\n",
            "Epoch 50/50\n",
            "45000/45000 [==============================] - 485s 11ms/step - loss: 0.3858 - accuracy: 0.8253 - val_loss: 0.3855 - val_accuracy: 0.8255\n",
            "Training Done....!!!!\n"
          ],
          "name": "stdout"
        }
      ]
    },
    {
      "cell_type": "code",
      "metadata": {
        "id": "8kMHouHPAHhk",
        "colab_type": "code",
        "colab": {
          "base_uri": "https://localhost:8080/",
          "height": 249
        },
        "outputId": "36d3b760-1bd5-4f3e-fa8d-75738066f81a"
      },
      "source": [
        "import matplotlib.image  as mpimg\n",
        "import matplotlib.pyplot as plt\n",
        "\n",
        "acc=history2.history['accuracy']\n",
        "val_acc=history2.history2['val_accuracy']\n",
        "loss=history2.history2['loss']\n",
        "val_loss=history2.history2['val_loss']\n",
        "\n",
        "epochs=range(len(acc)) # Get number of epochs\n",
        "\n",
        "#------------------------------------------------\n",
        "# Plot training and validation accuracy per epoch\n",
        "#------------------------------------------------\n",
        "plt.plot(epochs, acc, 'r')\n",
        "plt.plot(epochs, val_acc, 'b')\n",
        "plt.title('Training and validation accuracy')\n",
        "plt.xlabel(\"Epochs\")\n",
        "plt.ylabel(\"Accuracy\")\n",
        "plt.legend([\"Accuracy\", \"Validation Accuracy\"])\n",
        "\n",
        "plt.figure()\n",
        "\n",
        "#------------------------------------------------\n",
        "# Plot training and validation loss per epoch\n",
        "#------------------------------------------------\n",
        "plt.plot(epochs, loss, 'r')\n",
        "plt.plot(epochs, val_loss, 'b')\n",
        "plt.title('Training and validation loss')\n",
        "plt.xlabel(\"Epochs\")\n",
        "plt.ylabel(\"Loss\")\n",
        "plt.legend([\"Loss\", \"Validation Loss\"])\n",
        "\n",
        "plt.figure()"
      ],
      "execution_count": null,
      "outputs": [
        {
          "output_type": "error",
          "ename": "NameError",
          "evalue": "ignored",
          "traceback": [
            "\u001b[0;31m---------------------------------------------------------------------------\u001b[0m",
            "\u001b[0;31mNameError\u001b[0m                                 Traceback (most recent call last)",
            "\u001b[0;32m<ipython-input-1-09ba37705e0d>\u001b[0m in \u001b[0;36m<module>\u001b[0;34m()\u001b[0m\n\u001b[1;32m      2\u001b[0m \u001b[0;32mimport\u001b[0m \u001b[0mmatplotlib\u001b[0m\u001b[0;34m.\u001b[0m\u001b[0mpyplot\u001b[0m \u001b[0;32mas\u001b[0m \u001b[0mplt\u001b[0m\u001b[0;34m\u001b[0m\u001b[0;34m\u001b[0m\u001b[0m\n\u001b[1;32m      3\u001b[0m \u001b[0;34m\u001b[0m\u001b[0m\n\u001b[0;32m----> 4\u001b[0;31m \u001b[0macc\u001b[0m\u001b[0;34m=\u001b[0m\u001b[0mhistory2\u001b[0m\u001b[0;34m.\u001b[0m\u001b[0mhistory\u001b[0m\u001b[0;34m[\u001b[0m\u001b[0;34m'accuracy'\u001b[0m\u001b[0;34m]\u001b[0m\u001b[0;34m\u001b[0m\u001b[0;34m\u001b[0m\u001b[0m\n\u001b[0m\u001b[1;32m      5\u001b[0m \u001b[0mval_acc\u001b[0m\u001b[0;34m=\u001b[0m\u001b[0mhistory2\u001b[0m\u001b[0;34m.\u001b[0m\u001b[0mhistory2\u001b[0m\u001b[0;34m[\u001b[0m\u001b[0;34m'val_accuracy'\u001b[0m\u001b[0;34m]\u001b[0m\u001b[0;34m\u001b[0m\u001b[0;34m\u001b[0m\u001b[0m\n\u001b[1;32m      6\u001b[0m \u001b[0mloss\u001b[0m\u001b[0;34m=\u001b[0m\u001b[0mhistory2\u001b[0m\u001b[0;34m.\u001b[0m\u001b[0mhistory2\u001b[0m\u001b[0;34m[\u001b[0m\u001b[0;34m'loss'\u001b[0m\u001b[0;34m]\u001b[0m\u001b[0;34m\u001b[0m\u001b[0;34m\u001b[0m\u001b[0m\n",
            "\u001b[0;31mNameError\u001b[0m: name 'history2' is not defined"
          ]
        }
      ]
    },
    {
      "cell_type": "code",
      "metadata": {
        "id": "xB9z3c5y8kZb",
        "colab_type": "code",
        "colab": {}
      },
      "source": [
        ""
      ],
      "execution_count": null,
      "outputs": []
    },
    {
      "cell_type": "markdown",
      "metadata": {
        "id": "lYWLH1FqXwFa",
        "colab_type": "text"
      },
      "source": [
        "## **Model - 3**"
      ]
    },
    {
      "cell_type": "code",
      "metadata": {
        "id": "1lVgzpTbXwXU",
        "colab_type": "code",
        "colab": {
          "base_uri": "https://localhost:8080/",
          "height": 1000
        },
        "outputId": "8e7a0c98-3c23-4aaa-cc7e-aa90588dce71"
      },
      "source": [
        "from tensorflow.keras import regularizers\n",
        "\n",
        "train_padded = np.array(training_padded)\n",
        "train_label = np.array(training_label)\n",
        "test_padded = np.array(testing_padded)\n",
        "test_label = np.array(testing_label)\n",
        "\n",
        "epochs = 50\n",
        "\n",
        "model3 = tf.keras.Sequential([\n",
        "             tf.keras.layers.Embedding(vocab_size+1, embedding_dim, input_length=max_length, weights=[embeddings_matrix], trainable=False),\n",
        "             tf.keras.layers.Dropout(0.3),\n",
        "             tf.keras.layers.Conv1D(128, 5, activation='relu'),\n",
        "             tf.keras.layers.BatchNormalization(),\n",
        "             tf.keras.layers.Bidirectional(tf.keras.layers.LSTM(150, return_sequences=True)),\n",
        "             tf.keras.layers.Dropout(0.2),\n",
        "             tf.keras.layers.Bidirectional(tf.keras.layers.LSTM(20, return_sequences=True)),\n",
        "             tf.keras.layers.GlobalAveragePooling1D(),\n",
        "             tf.keras.layers.Dense(256, activation = \"relu\", kernel_regularizer=regularizers.l2(0.01)),\n",
        "             tf.keras.layers.Dropout(0.3),\n",
        "             tf.keras.layers.Dense(1, activation = \"sigmoid\")                                   \n",
        "])\n",
        "\n",
        "\n",
        "model3.compile(optimizer = Adam(beta_1=0.9, beta_2=0.999, epsilon=1e-08), \n",
        "              loss = \"binary_crossentropy\", \n",
        "              metrics = [\"accuracy\"])\n",
        "  \n",
        "model3.summary()\n",
        "\n",
        "\n",
        "early_stop = tf.keras.callbacks.EarlyStopping(\n",
        "    monitor='val_loss', patience=20, verbose = 1, restore_best_weights=True)\n",
        "  \n",
        "reduce_lr = tf.keras.callbacks.ReduceLROnPlateau(\n",
        "    monitor='val_accuracy', factor=0.2, patience=12, verbose = 1,\n",
        "    min_delta=0.01)\n",
        "\n",
        "history3 = model3.fit(train_padded, train_label, epochs=50, validation_data=(test_padded, test_label), callbacks = [early_stop, reduce_lr], verbose = 1)\n",
        "\n",
        "print(\"Training Done....!!!!\")"
      ],
      "execution_count": null,
      "outputs": [
        {
          "output_type": "stream",
          "text": [
            "Model: \"sequential\"\n",
            "_________________________________________________________________\n",
            "Layer (type)                 Output Shape              Param #   \n",
            "=================================================================\n",
            "embedding (Embedding)        (None, 32, 100)           69096100  \n",
            "_________________________________________________________________\n",
            "dropout (Dropout)            (None, 32, 100)           0         \n",
            "_________________________________________________________________\n",
            "conv1d (Conv1D)              (None, 28, 128)           64128     \n",
            "_________________________________________________________________\n",
            "batch_normalization (BatchNo (None, 28, 128)           512       \n",
            "_________________________________________________________________\n",
            "bidirectional (Bidirectional (None, 28, 300)           334800    \n",
            "_________________________________________________________________\n",
            "dropout_1 (Dropout)          (None, 28, 300)           0         \n",
            "_________________________________________________________________\n",
            "bidirectional_1 (Bidirection (None, 28, 40)            51360     \n",
            "_________________________________________________________________\n",
            "global_average_pooling1d (Gl (None, 40)                0         \n",
            "_________________________________________________________________\n",
            "dense (Dense)                (None, 256)               10496     \n",
            "_________________________________________________________________\n",
            "dropout_2 (Dropout)          (None, 256)               0         \n",
            "_________________________________________________________________\n",
            "dense_1 (Dense)              (None, 1)                 257       \n",
            "=================================================================\n",
            "Total params: 69,557,653\n",
            "Trainable params: 461,297\n",
            "Non-trainable params: 69,096,356\n",
            "_________________________________________________________________\n",
            "Epoch 1/50\n",
            "45000/45000 [==============================] - 533s 12ms/step - loss: 0.4940 - accuracy: 0.7618 - val_loss: 0.4383 - val_accuracy: 0.7970\n",
            "Epoch 2/50\n",
            "45000/45000 [==============================] - 541s 12ms/step - loss: 0.4571 - accuracy: 0.7859 - val_loss: 0.4291 - val_accuracy: 0.8029\n",
            "Epoch 3/50\n",
            "45000/45000 [==============================] - 568s 13ms/step - loss: 0.4479 - accuracy: 0.7924 - val_loss: 0.4249 - val_accuracy: 0.8069\n",
            "Epoch 4/50\n",
            "45000/45000 [==============================] - 573s 13ms/step - loss: 0.4419 - accuracy: 0.7962 - val_loss: 0.4232 - val_accuracy: 0.8102\n",
            "Epoch 5/50\n",
            "45000/45000 [==============================] - 574s 13ms/step - loss: 0.4386 - accuracy: 0.7980 - val_loss: 0.4114 - val_accuracy: 0.8122\n",
            "Epoch 6/50\n",
            "45000/45000 [==============================] - 576s 13ms/step - loss: 0.4361 - accuracy: 0.7993 - val_loss: 0.4130 - val_accuracy: 0.8121\n",
            "Epoch 7/50\n",
            "45000/45000 [==============================] - 574s 13ms/step - loss: 0.4338 - accuracy: 0.8011 - val_loss: 0.4103 - val_accuracy: 0.8146\n",
            "Epoch 8/50\n",
            "45000/45000 [==============================] - 578s 13ms/step - loss: 0.4325 - accuracy: 0.8017 - val_loss: 0.4126 - val_accuracy: 0.8134\n",
            "Epoch 9/50\n",
            "45000/45000 [==============================] - 551s 12ms/step - loss: 0.4311 - accuracy: 0.8027 - val_loss: 0.4085 - val_accuracy: 0.8149\n",
            "Epoch 10/50\n",
            "45000/45000 [==============================] - 536s 12ms/step - loss: 0.4304 - accuracy: 0.8031 - val_loss: 0.4076 - val_accuracy: 0.8140\n",
            "Epoch 11/50\n",
            "45000/45000 [==============================] - 531s 12ms/step - loss: 0.4293 - accuracy: 0.8038 - val_loss: 0.4072 - val_accuracy: 0.8158\n",
            "Epoch 12/50\n",
            "45000/45000 [==============================] - 530s 12ms/step - loss: 0.4288 - accuracy: 0.8041 - val_loss: 0.4118 - val_accuracy: 0.8141\n",
            "Epoch 13/50\n",
            "45000/45000 [==============================] - 530s 12ms/step - loss: 0.4289 - accuracy: 0.8039 - val_loss: 0.4095 - val_accuracy: 0.8130\n",
            "Epoch 14/50\n",
            "45000/45000 [==============================] - 525s 12ms/step - loss: 0.4289 - accuracy: 0.8042 - val_loss: 0.4104 - val_accuracy: 0.8160\n",
            "Epoch 15/50\n",
            "45000/45000 [==============================] - 530s 12ms/step - loss: 0.4296 - accuracy: 0.8037 - val_loss: 0.4085 - val_accuracy: 0.8137\n",
            "Epoch 16/50\n",
            "44998/45000 [============================>.] - ETA: 0s - loss: 0.4292 - accuracy: 0.8042\n",
            "Epoch 00016: ReduceLROnPlateau reducing learning rate to 0.00020000000949949026.\n",
            "45000/45000 [==============================] - 538s 12ms/step - loss: 0.4292 - accuracy: 0.8042 - val_loss: 0.4067 - val_accuracy: 0.8145\n",
            "Epoch 17/50\n",
            "45000/45000 [==============================] - 538s 12ms/step - loss: 0.4218 - accuracy: 0.8073 - val_loss: 0.4026 - val_accuracy: 0.8180\n",
            "Epoch 18/50\n",
            "45000/45000 [==============================] - 541s 12ms/step - loss: 0.4184 - accuracy: 0.8092 - val_loss: 0.3988 - val_accuracy: 0.8195\n",
            "Epoch 19/50\n",
            "45000/45000 [==============================] - 527s 12ms/step - loss: 0.4167 - accuracy: 0.8100 - val_loss: 0.3991 - val_accuracy: 0.8188\n",
            "Epoch 20/50\n",
            "45000/45000 [==============================] - 536s 12ms/step - loss: 0.4152 - accuracy: 0.8108 - val_loss: 0.3967 - val_accuracy: 0.8204\n",
            "Epoch 21/50\n",
            "45000/45000 [==============================] - 529s 12ms/step - loss: 0.4134 - accuracy: 0.8119 - val_loss: 0.3971 - val_accuracy: 0.8199\n",
            "Epoch 22/50\n",
            "45000/45000 [==============================] - 547s 12ms/step - loss: 0.4127 - accuracy: 0.8122 - val_loss: 0.3976 - val_accuracy: 0.8209\n",
            "Epoch 23/50\n",
            "45000/45000 [==============================] - 543s 12ms/step - loss: 0.4114 - accuracy: 0.8132 - val_loss: 0.3964 - val_accuracy: 0.8214\n",
            "Epoch 24/50\n",
            "45000/45000 [==============================] - 535s 12ms/step - loss: 0.4107 - accuracy: 0.8132 - val_loss: 0.3952 - val_accuracy: 0.8212\n",
            "Epoch 25/50\n",
            "45000/45000 [==============================] - 551s 12ms/step - loss: 0.4098 - accuracy: 0.8140 - val_loss: 0.3960 - val_accuracy: 0.8211\n",
            "Epoch 26/50\n",
            "45000/45000 [==============================] - 562s 12ms/step - loss: 0.4087 - accuracy: 0.8143 - val_loss: 0.3951 - val_accuracy: 0.8209\n",
            "Epoch 27/50\n",
            "45000/45000 [==============================] - 541s 12ms/step - loss: 0.4084 - accuracy: 0.8146 - val_loss: 0.3943 - val_accuracy: 0.8222\n",
            "Epoch 28/50\n",
            "45000/45000 [==============================] - 531s 12ms/step - loss: 0.4076 - accuracy: 0.8151 - val_loss: 0.3978 - val_accuracy: 0.8215\n",
            "Epoch 29/50\n",
            "45000/45000 [==============================] - 542s 12ms/step - loss: 0.4070 - accuracy: 0.8151 - val_loss: 0.3934 - val_accuracy: 0.8222\n",
            "Epoch 30/50\n",
            "45000/45000 [==============================] - 535s 12ms/step - loss: 0.4067 - accuracy: 0.8155 - val_loss: 0.3935 - val_accuracy: 0.8225\n",
            "Epoch 31/50\n",
            "45000/45000 [==============================] - 533s 12ms/step - loss: 0.4059 - accuracy: 0.8162 - val_loss: 0.3932 - val_accuracy: 0.8235\n",
            "Epoch 32/50\n",
            "44997/45000 [============================>.] - ETA: 0s - loss: 0.4051 - accuracy: 0.8164\n",
            "Epoch 00032: ReduceLROnPlateau reducing learning rate to 4.0000001899898055e-05.\n",
            "45000/45000 [==============================] - 532s 12ms/step - loss: 0.4052 - accuracy: 0.8164 - val_loss: 0.3948 - val_accuracy: 0.8219\n",
            "Epoch 33/50\n",
            "45000/45000 [==============================] - 535s 12ms/step - loss: 0.4033 - accuracy: 0.8172 - val_loss: 0.3927 - val_accuracy: 0.8236\n",
            "Epoch 34/50\n",
            "45000/45000 [==============================] - 537s 12ms/step - loss: 0.4027 - accuracy: 0.8177 - val_loss: 0.3917 - val_accuracy: 0.8236\n",
            "Epoch 35/50\n",
            "45000/45000 [==============================] - 535s 12ms/step - loss: 0.4024 - accuracy: 0.8175 - val_loss: 0.3916 - val_accuracy: 0.8232\n",
            "Epoch 36/50\n",
            "45000/45000 [==============================] - 534s 12ms/step - loss: 0.4022 - accuracy: 0.8179 - val_loss: 0.3920 - val_accuracy: 0.8242\n",
            "Epoch 37/50\n",
            "45000/45000 [==============================] - 536s 12ms/step - loss: 0.4018 - accuracy: 0.8180 - val_loss: 0.3930 - val_accuracy: 0.8234\n",
            "Epoch 38/50\n",
            "45000/45000 [==============================] - 538s 12ms/step - loss: 0.4018 - accuracy: 0.8179 - val_loss: 0.3917 - val_accuracy: 0.8237\n",
            "Epoch 39/50\n",
            "45000/45000 [==============================] - 536s 12ms/step - loss: 0.4016 - accuracy: 0.8180 - val_loss: 0.3915 - val_accuracy: 0.8241\n",
            "Epoch 40/50\n",
            "45000/45000 [==============================] - 535s 12ms/step - loss: 0.4011 - accuracy: 0.8183 - val_loss: 0.3919 - val_accuracy: 0.8237\n",
            "Epoch 41/50\n",
            "45000/45000 [==============================] - 532s 12ms/step - loss: 0.4013 - accuracy: 0.8181 - val_loss: 0.3908 - val_accuracy: 0.8239\n",
            "Epoch 42/50\n",
            "45000/45000 [==============================] - 532s 12ms/step - loss: 0.4010 - accuracy: 0.8186 - val_loss: 0.3907 - val_accuracy: 0.8238\n",
            "Epoch 43/50\n",
            "45000/45000 [==============================] - 537s 12ms/step - loss: 0.4009 - accuracy: 0.8186 - val_loss: 0.3903 - val_accuracy: 0.8244\n",
            "Epoch 44/50\n",
            "44999/45000 [============================>.] - ETA: 0s - loss: 0.4007 - accuracy: 0.8186\n",
            "Epoch 00044: ReduceLROnPlateau reducing learning rate to 8.000000525498762e-06.\n",
            "45000/45000 [==============================] - 533s 12ms/step - loss: 0.4007 - accuracy: 0.8186 - val_loss: 0.3908 - val_accuracy: 0.8242\n",
            "Epoch 45/50\n",
            "45000/45000 [==============================] - 534s 12ms/step - loss: 0.4003 - accuracy: 0.8186 - val_loss: 0.3908 - val_accuracy: 0.8242\n",
            "Epoch 46/50\n",
            "45000/45000 [==============================] - 532s 12ms/step - loss: 0.4002 - accuracy: 0.8189 - val_loss: 0.3910 - val_accuracy: 0.8241\n",
            "Epoch 47/50\n",
            "45000/45000 [==============================] - 532s 12ms/step - loss: 0.4002 - accuracy: 0.8189 - val_loss: 0.3904 - val_accuracy: 0.8244\n",
            "Epoch 48/50\n",
            "45000/45000 [==============================] - 533s 12ms/step - loss: 0.3998 - accuracy: 0.8191 - val_loss: 0.3906 - val_accuracy: 0.8242\n",
            "Epoch 49/50\n",
            "45000/45000 [==============================] - 533s 12ms/step - loss: 0.4001 - accuracy: 0.8188 - val_loss: 0.3907 - val_accuracy: 0.8242\n",
            "Epoch 50/50\n",
            "45000/45000 [==============================] - 531s 12ms/step - loss: 0.3997 - accuracy: 0.8192 - val_loss: 0.3908 - val_accuracy: 0.8242\n",
            "Training Done....!!!!\n"
          ],
          "name": "stdout"
        }
      ]
    },
    {
      "cell_type": "code",
      "metadata": {
        "id": "wu818KUSaioC",
        "colab_type": "code",
        "colab": {
          "base_uri": "https://localhost:8080/",
          "height": 610
        },
        "outputId": "55c38a7f-5328-4f33-c04f-0d75439fe3a6"
      },
      "source": [
        "import matplotlib.image  as mpimg\n",
        "import matplotlib.pyplot as plt\n",
        "\n",
        "acc=history3.history['accuracy']\n",
        "val_acc=history3.history['val_accuracy']\n",
        "loss=history3.history['loss']\n",
        "val_loss=history3.history['val_loss']\n",
        "\n",
        "epochs=range(len(acc)) # Get number of epochs\n",
        "\n",
        "#------------------------------------------------\n",
        "# Plot training and validation accuracy per epoch\n",
        "#------------------------------------------------\n",
        "plt.plot(epochs, acc, 'r')\n",
        "plt.plot(epochs, val_acc, 'b')\n",
        "plt.title('Training and validation accuracy')\n",
        "plt.xlabel(\"Epochs\")\n",
        "plt.ylabel(\"Accuracy\")\n",
        "plt.legend([\"Accuracy\", \"Validation Accuracy\"])\n",
        "\n",
        "plt.figure()\n",
        "\n",
        "#------------------------------------------------\n",
        "# Plot training and validation loss per epoch\n",
        "#------------------------------------------------\n",
        "plt.plot(epochs, loss, 'r')\n",
        "plt.plot(epochs, val_loss, 'b')\n",
        "plt.title('Training and validation loss')\n",
        "plt.xlabel(\"Epochs\")\n",
        "plt.ylabel(\"Loss\")\n",
        "plt.legend([\"Loss\", \"Validation Loss\"])\n",
        "\n",
        "plt.figure()"
      ],
      "execution_count": null,
      "outputs": [
        {
          "output_type": "execute_result",
          "data": {
            "text/plain": [
              "<Figure size 432x288 with 0 Axes>"
            ]
          },
          "metadata": {
            "tags": []
          },
          "execution_count": 9
        },
        {
          "output_type": "display_data",
          "data": {
            "image/png": "[encoded data removed]",
            "text/plain": [
              "<Figure size 432x288 with 1 Axes>"
            ]
          },
          "metadata": {
            "tags": [],
            "needs_background": "light"
          }
        },
        {
          "output_type": "display_data",
          "data": {
            "image/png": "[encoded data removed]",
            "text/plain": [
              "<Figure size 432x288 with 1 Axes>"
            ]
          },
          "metadata": {
            "tags": [],
            "needs_background": "light"
          }
        },
        {
          "output_type": "display_data",
          "data": {
            "text/plain": [
              "<Figure size 432x288 with 0 Axes>"
            ]
          },
          "metadata": {
            "tags": []
          }
        }
      ]
    },
    {
      "cell_type": "code",
      "metadata": {
        "id": "lJAuhajXIl_o",
        "colab_type": "code",
        "colab": {
          "base_uri": "https://localhost:8080/",
          "height": 36
        },
        "outputId": "1635ebf1-0e2e-446e-c6ba-ef30578c754a"
      },
      "source": [
        "score = model3.evaluate(test_padded, test_label)"
      ],
      "execution_count": null,
      "outputs": [
        {
          "output_type": "stream",
          "text": [
            "5000/5000 [==============================] - 27s 5ms/step - loss: 0.3908 - accuracy: 0.8242\n"
          ],
          "name": "stdout"
        }
      ]
    },
    {
      "cell_type": "code",
      "metadata": {
        "id": "D-Rv8woAEdn9",
        "colab_type": "code",
        "colab": {
          "base_uri": "https://localhost:8080/",
          "height": 92
        },
        "outputId": "f5f3ff6c-d728-4c8c-fb0f-b4c8330d7d90"
      },
      "source": [
        "# sentence = \"tory leader unveils spending plan tory leader michael howard \"\n",
        "# sentence2 = \"Deep learning is evolving day by day, lot os stuffs to learn\"\n",
        "sentence3 = \"we are very sad\"\n",
        "# sequence = tokenizer.texts_to_sequences([sentence])\n",
        "# print(sequence)\n",
        "# sequence2 = tokenizer.texts_to_sequences([sentence2])\n",
        "# print(sequence2)\n",
        "# sequence3 = tokenizer.texts_to_sequences([sentence3])\n",
        "# print(sequence3)\n",
        "# new_padded = pad_sequences(sequence3,maxlen=max_length)\n",
        "# Model.predict(new_padded)\n",
        "\n",
        "my_sequence = token.texts_to_sequences([sentence3])\n",
        "print(my_sequence)\n",
        "my_padded = pad_sequences(my_sequence, maxlen = max_length, padding = padding_type, truncating = trunc_type)\n",
        "print(my_padded)\n",
        "pred = model3.predict(my_padded)\n",
        "print(pred)"
      ],
      "execution_count": null,
      "outputs": [
        {
          "output_type": "stream",
          "text": [
            "[[60, 35, 120, 110]]\n",
            "[[ 60  35 120 110   0   0   0   0   0   0   0   0   0   0   0   0   0   0\n",
            "    0   0   0   0   0   0   0   0   0   0   0   0   0   0]]\n",
            "[[0.004409]]\n"
          ],
          "name": "stdout"
        }
      ]
    },
    {
      "cell_type": "code",
      "metadata": {
        "id": "Jnk3ShhZHJJ1",
        "colab_type": "code",
        "colab": {}
      },
      "source": [
        "def predict(sentence, model, tokenizer, max_len, padding_typ, trunc_typ):\n",
        "  my_sequence = token.texts_to_sequences([sentence])\n",
        "  # print(my_sequence)\n",
        "  my_padded = pad_sequences(my_sequence, maxlen = max_len, padding = padding_typ, truncating = trunc_typ)\n",
        "  # print(my_padded)\n",
        "  pred = model.predict(my_padded)\n",
        "  # print(pred)\n",
        "  if pred > 0.5:\n",
        "    return (\"Tone is Positive  ||  Probablity is \", pred)\n",
        "  else:\n",
        "    return (\"Tone is Negetive  ||  Probablity is \", pred)\n",
        "\n"
      ],
      "execution_count": null,
      "outputs": []
    },
    {
      "cell_type": "code",
      "metadata": {
        "id": "st9xBvK5LvUc",
        "colab_type": "code",
        "colab": {
          "base_uri": "https://localhost:8080/",
          "height": 110
        },
        "outputId": "b4f24abf-2239-4280-b429-b718e2d29ca0"
      },
      "source": [
        "your_word = str(input(\"Enter sentence of your choice:\\n\"))\n",
        "tone, prob = predict(your_word , model3, token, max_length, padding_type, trunc_type)\n",
        "print(\"\\n\")\n",
        "print(tone, prob[0][0])"
      ],
      "execution_count": null,
      "outputs": [
        {
          "output_type": "stream",
          "text": [
            "Enter sentence of your choice:\n",
            "He is not only good but also helpful\n",
            "\n",
            "\n",
            "Tone is Positive  ||  Probablity is  0.82346344\n"
          ],
          "name": "stdout"
        }
      ]
    },
    {
      "cell_type": "code",
      "metadata": {
        "id": "TzOfIjahL_X5",
        "colab_type": "code",
        "colab": {
          "base_uri": "https://localhost:8080/",
          "height": 110
        },
        "outputId": "96584b30-dc78-4e66-96af-5afabab4c6e7"
      },
      "source": [
        "your_word = str(input(\"Enter sentence of your choice:\\n\"))\n",
        "tone, prob = predict(your_word , model3, token, max_length, padding_type, trunc_type)\n",
        "print(\"\\n\")\n",
        "print(tone, prob[0][0])"
      ],
      "execution_count": null,
      "outputs": [
        {
          "output_type": "stream",
          "text": [
            "Enter sentence of your choice:\n",
            "Do you think this is great?\n",
            "\n",
            "\n",
            "Tone is Positive  ||  Probablity is  0.9451582\n"
          ],
          "name": "stdout"
        }
      ]
    },
    {
      "cell_type": "code",
      "metadata": {
        "id": "3g22va1daUUp",
        "colab_type": "code",
        "colab": {}
      },
      "source": [
        ""
      ],
      "execution_count": null,
      "outputs": []
    }
  ]
}